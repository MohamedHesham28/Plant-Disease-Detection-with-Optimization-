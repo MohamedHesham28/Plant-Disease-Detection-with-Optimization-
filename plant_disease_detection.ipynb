{
 "cells": [
  {
   "cell_type": "markdown",
   "metadata": {},
   "source": [
    "# Plant Disease Detection \n",
    "\n"
   ]
  },
  {
   "cell_type": "markdown",
   "metadata": {},
   "source": [
    "## 1. Imports laibaries"
   ]
  },
  {
   "cell_type": "code",
   "execution_count": 4,
   "metadata": {},
   "outputs": [
    {
     "name": "stdout",
     "output_type": "stream",
     "text": [
      "Using device: cuda:0\n"
     ]
    }
   ],
   "source": [
    "import os\n",
    "import time\n",
    "import numpy as np\n",
    "import pandas as pd\n",
    "import matplotlib.pyplot as plt\n",
    "import random\n",
    "from tqdm.notebook import tqdm\n",
    "\n",
    "import torch\n",
    "import torch.nn as nn\n",
    "import torch.optim as optim\n",
    "import torch.nn.functional as F\n",
    "from torch.utils.data import DataLoader, Dataset\n",
    "from torchvision import datasets, transforms, models\n",
    "\n",
    "# Set random seeds for reproducibility\n",
    "seed = 42\n",
    "torch.manual_seed(seed)\n",
    "torch.cuda.manual_seed(seed)\n",
    "np.random.seed(seed)\n",
    "random.seed(seed)\n",
    "torch.backends.cudnn.deterministic = True\n",
    "torch.backends.cudnn.benchmark = False\n",
    "\n",
    "# Check if GPU is available\n",
    "device = torch.device(\"cuda:0\" if torch.cuda.is_available() else \"cpu\")\n",
    "print(f\"Using device: {device}\")"
   ]
  },
  {
   "cell_type": "markdown",
   "metadata": {},
   "source": [
    "## 2. Data Loading and Preprocessing"
   ]
  },
  {
   "cell_type": "code",
   "execution_count": 5,
   "metadata": {},
   "outputs": [
    {
     "name": "stdout",
     "output_type": "stream",
     "text": [
      "Number of classes: 38\n",
      "Class names: ['Apple___Apple_scab', 'Apple___Black_rot', 'Apple___Cedar_apple_rust', 'Apple___healthy', 'Blueberry___healthy', 'Cherry_(including_sour)___Powdery_mildew', 'Cherry_(including_sour)___healthy', 'Corn_(maize)___Cercospora_leaf_spot Gray_leaf_spot', 'Corn_(maize)___Common_rust_', 'Corn_(maize)___Northern_Leaf_Blight', 'Corn_(maize)___healthy', 'Grape___Black_rot', 'Grape___Esca_(Black_Measles)', 'Grape___Leaf_blight_(Isariopsis_Leaf_Spot)', 'Grape___healthy', 'Orange___Haunglongbing_(Citrus_greening)', 'Peach___Bacterial_spot', 'Peach___healthy', 'Pepper,_bell___Bacterial_spot', 'Pepper,_bell___healthy', 'Potato___Early_blight', 'Potato___Late_blight', 'Potato___healthy', 'Raspberry___healthy', 'Soybean___healthy', 'Squash___Powdery_mildew', 'Strawberry___Leaf_scorch', 'Strawberry___healthy', 'Tomato___Bacterial_spot', 'Tomato___Early_blight', 'Tomato___Late_blight', 'Tomato___Leaf_Mold', 'Tomato___Septoria_leaf_spot', 'Tomato___Spider_mites Two-spotted_spider_mite', 'Tomato___Target_Spot', 'Tomato___Tomato_Yellow_Leaf_Curl_Virus', 'Tomato___Tomato_mosaic_virus', 'Tomato___healthy']\n",
      "Training samples: 43444\n",
      "Validation samples: 10861\n"
     ]
    }
   ],
   "source": [
    "# Define data directories\n",
    "data_dir = \"PlantVillage\"\n",
    "train_dir = os.path.join(data_dir, \"train\")\n",
    "val_dir = os.path.join(data_dir, \"val\")\n",
    "\n",
    "# Define image transformations\n",
    "def get_transforms(img_size=224):\n",
    "    train_transforms = transforms.Compose([\n",
    "        transforms.Resize((img_size, img_size)),\n",
    "        transforms.RandomHorizontalFlip(),\n",
    "        transforms.RandomRotation(15),\n",
    "        transforms.ColorJitter(brightness=0.1, contrast=0.1, saturation=0.1, hue=0.1),\n",
    "        transforms.ToTensor(),\n",
    "        transforms.Normalize([0.485, 0.456, 0.406], [0.229, 0.224, 0.225])\n",
    "    ])\n",
    "    \n",
    "    val_transforms = transforms.Compose([\n",
    "        transforms.Resize((img_size, img_size)),\n",
    "        transforms.ToTensor(),\n",
    "        transforms.Normalize([0.485, 0.456, 0.406], [0.229, 0.224, 0.225])\n",
    "    ])\n",
    "    \n",
    "    return train_transforms, val_transforms\n",
    "\n",
    "# Load datasets\n",
    "def load_data(batch_size=32, img_size=224):\n",
    "    train_transforms, val_transforms = get_transforms(img_size)\n",
    "    \n",
    "    train_dataset = datasets.ImageFolder(train_dir, transform=train_transforms)\n",
    "    val_dataset = datasets.ImageFolder(val_dir, transform=val_transforms)\n",
    "    \n",
    "    train_loader = DataLoader(train_dataset, batch_size=batch_size, shuffle=True, num_workers=4, pin_memory=True)\n",
    "    val_loader = DataLoader(val_dataset, batch_size=batch_size, shuffle=False, num_workers=4, pin_memory=True)\n",
    "    \n",
    "    class_names = train_dataset.classes\n",
    "    num_classes = len(class_names)\n",
    "    \n",
    "    return train_loader, val_loader, class_names, num_classes\n",
    "\n",
    "# Load data with default parameters\n",
    "batch_size = 32\n",
    "train_loader, val_loader, class_names, num_classes = load_data(batch_size=batch_size)\n",
    "\n",
    "print(f\"Number of classes: {num_classes}\")\n",
    "print(f\"Class names: {class_names}\")\n",
    "print(f\"Training samples: {len(train_loader.dataset)}\")\n",
    "print(f\"Validation samples: {len(val_loader.dataset)}\")"
   ]
  },
  {
   "cell_type": "markdown",
   "metadata": {},
   "source": [
    "## 3. CNN Model Architecture"
   ]
  },
  {
   "cell_type": "code",
   "execution_count": 6,
   "metadata": {},
   "outputs": [],
   "source": [
    "class PlantDiseaseModel(nn.Module):\n",
    "    def __init__(self, num_classes, dropout_rate=0.5, num_conv_layers=4, num_dense_layers=2):\n",
    "        super(PlantDiseaseModel, self).__init__()\n",
    "        \n",
    "        # Define convolutional layers\n",
    "        self.conv_layers = nn.ModuleList()\n",
    "        \n",
    "        # First conv layer\n",
    "        self.conv_layers.append(nn.Sequential(\n",
    "            nn.Conv2d(3, 32, kernel_size=3, padding=1),\n",
    "            nn.BatchNorm2d(32),\n",
    "            nn.ReLU(),\n",
    "            nn.MaxPool2d(2)\n",
    "        ))\n",
    "        \n",
    "        # Additional conv layers\n",
    "        in_channels = 32\n",
    "        for i in range(1, num_conv_layers):\n",
    "            out_channels = in_channels * 2\n",
    "            self.conv_layers.append(nn.Sequential(\n",
    "                nn.Conv2d(in_channels, out_channels, kernel_size=3, padding=1),\n",
    "                nn.BatchNorm2d(out_channels),\n",
    "                nn.ReLU(),\n",
    "                nn.MaxPool2d(2)\n",
    "            ))\n",
    "            in_channels = out_channels\n",
    "        \n",
    "        # Calculate the size of the flattened features\n",
    "        # Starting with 224x224 images, after 4 max pooling layers: 224/(2^4) = 14\n",
    "        feature_size = (224 // (2 ** num_conv_layers)) ** 2 * in_channels\n",
    "        \n",
    "        # Define fully connected layers\n",
    "        self.fc_layers = nn.ModuleList()\n",
    "        \n",
    "        # First FC layer\n",
    "        self.fc_layers.append(nn.Sequential(\n",
    "            nn.Linear(feature_size, 512),\n",
    "            nn.ReLU(),\n",
    "            nn.Dropout(dropout_rate)\n",
    "        ))\n",
    "        \n",
    "        # Additional FC layers\n",
    "        in_features = 512\n",
    "        for i in range(1, num_dense_layers):\n",
    "            out_features = in_features // 2\n",
    "            self.fc_layers.append(nn.Sequential(\n",
    "                nn.Linear(in_features, out_features),\n",
    "                nn.ReLU(),\n",
    "                nn.Dropout(dropout_rate)\n",
    "            ))\n",
    "            in_features = out_features\n",
    "        \n",
    "        # Output layer\n",
    "        self.output_layer = nn.Linear(in_features, num_classes)\n",
    "    \n",
    "    def forward(self, x):\n",
    "        # Pass through conv layers\n",
    "        for conv_layer in self.conv_layers:\n",
    "            x = conv_layer(x)\n",
    "        \n",
    "        # Flatten\n",
    "        x = x.view(x.size(0), -1)\n",
    "        \n",
    "        # Pass through FC layers\n",
    "        for fc_layer in self.fc_layers:\n",
    "            x = fc_layer(x)\n",
    "        \n",
    "        # Output layer\n",
    "        x = self.output_layer(x)\n",
    "        \n",
    "        return x"
   ]
  },
  {
   "cell_type": "markdown",
   "metadata": {},
   "source": [
    "## 4. Training and Validation Functions"
   ]
  },
  {
   "cell_type": "code",
   "execution_count": 7,
   "metadata": {},
   "outputs": [],
   "source": [
    "def train_model(model, train_loader, val_loader, criterion, optimizer, num_epochs=10):\n",
    "    # Initialize lists to store metrics\n",
    "    train_losses = []\n",
    "    val_losses = []\n",
    "    train_accs = []\n",
    "    val_accs = []\n",
    "    best_val_acc = 0.0\n",
    "    best_model_wts = None\n",
    "    \n",
    "    # Training loop\n",
    "    for epoch in range(num_epochs):\n",
    "        start_time = time.time()\n",
    "        \n",
    "        # Training phase\n",
    "        model.train()\n",
    "        running_loss = 0.0\n",
    "        running_corrects = 0\n",
    "        \n",
    "        for inputs, labels in tqdm(train_loader, desc=f\"Epoch {epoch+1}/{num_epochs} [Train]\"):\n",
    "            inputs = inputs.to(device)\n",
    "            labels = labels.to(device)\n",
    "            \n",
    "            # Zero the parameter gradients\n",
    "            optimizer.zero_grad()\n",
    "            \n",
    "            # Forward pass\n",
    "            outputs = model(inputs)\n",
    "            _, preds = torch.max(outputs, 1)\n",
    "            loss = criterion(outputs, labels)\n",
    "            \n",
    "            # Backward pass and optimize\n",
    "            loss.backward()\n",
    "            optimizer.step()\n",
    "            \n",
    "            # Statistics\n",
    "            running_loss += loss.item() * inputs.size(0)\n",
    "            running_corrects += torch.sum(preds == labels.data)\n",
    "        \n",
    "        epoch_loss = running_loss / len(train_loader.dataset)\n",
    "        epoch_acc = running_corrects.double() / len(train_loader.dataset)\n",
    "        train_losses.append(epoch_loss)\n",
    "        train_accs.append(epoch_acc.item())\n",
    "        \n",
    "        # Validation phase\n",
    "        model.eval()\n",
    "        running_loss = 0.0\n",
    "        running_corrects = 0\n",
    "        \n",
    "        with torch.no_grad():\n",
    "            for inputs, labels in tqdm(val_loader, desc=f\"Epoch {epoch+1}/{num_epochs} [Val]\"):\n",
    "                inputs = inputs.to(device)\n",
    "                labels = labels.to(device)\n",
    "                \n",
    "                # Forward pass\n",
    "                outputs = model(inputs)\n",
    "                _, preds = torch.max(outputs, 1)\n",
    "                loss = criterion(outputs, labels)\n",
    "                \n",
    "                # Statistics\n",
    "                running_loss += loss.item() * inputs.size(0)\n",
    "                running_corrects += torch.sum(preds == labels.data)\n",
    "        \n",
    "        epoch_loss = running_loss / len(val_loader.dataset)\n",
    "        epoch_acc = running_corrects.double() / len(val_loader.dataset)\n",
    "        val_losses.append(epoch_loss)\n",
    "        val_accs.append(epoch_acc.item())\n",
    "        \n",
    "        # Save best model\n",
    "        if epoch_acc > best_val_acc:\n",
    "            best_val_acc = epoch_acc\n",
    "            best_model_wts = model.state_dict().copy()\n",
    "        \n",
    "        time_elapsed = time.time() - start_time\n",
    "        print(f\"Epoch {epoch+1}/{num_epochs} completed in {time_elapsed:.2f}s\")\n",
    "        print(f\"Train Loss: {train_losses[-1]:.4f}, Train Acc: {train_accs[-1]:.4f}\")\n",
    "        print(f\"Val Loss: {val_losses[-1]:.4f}, Val Acc: {val_accs[-1]:.4f}\")\n",
    "        print(\"-\" * 50)\n",
    "    \n",
    "    # Load best model weights\n",
    "    model.load_state_dict(best_model_wts)\n",
    "    \n",
    "    return model, {\n",
    "        'train_losses': train_losses,\n",
    "        'val_losses': val_losses,\n",
    "        'train_accs': train_accs,\n",
    "        'val_accs': val_accs,\n",
    "        'best_val_acc': best_val_acc\n",
    "    }"
   ]
  },
  {
   "cell_type": "markdown",
   "metadata": {},
   "source": [
    "## 5. Particle Swarm Optimization (PSO) for Hyperparameter Tuning"
   ]
  },
  {
   "cell_type": "code",
   "execution_count": 8,
   "metadata": {},
   "outputs": [],
   "source": [
    "class Particle:\n",
    "    def __init__(self, bounds):\n",
    "        # Initialize particle position and velocity\n",
    "        self.position = {}\n",
    "        self.velocity = {}\n",
    "        self.best_position = {}\n",
    "        self.best_fitness = float('-inf')\n",
    "        \n",
    "        # Initialize position and velocity within bounds\n",
    "        for param, (min_val, max_val) in bounds.items():\n",
    "            if isinstance(min_val, int) and isinstance(max_val, int):\n",
    "                self.position[param] = random.randint(min_val, max_val)\n",
    "                self.velocity[param] = random.randint(-1, 1)\n",
    "            else:\n",
    "                self.position[param] = random.uniform(min_val, max_val)\n",
    "                self.velocity[param] = random.uniform(-0.1, 0.1)\n",
    "            \n",
    "            self.best_position[param] = self.position[param]\n",
    "\n",
    "class PSO:\n",
    "    def __init__(self, bounds, num_particles=5, max_iter=5, w=0.5, c1=1, c2=2):\n",
    "        self.bounds = bounds\n",
    "        self.num_particles = num_particles\n",
    "        self.max_iter = max_iter\n",
    "        self.w = w  # Inertia weight\n",
    "        self.c1 = c1  # Cognitive weight\n",
    "        self.c2 = c2  # Social weight\n",
    "        \n",
    "        # Initialize particles\n",
    "        self.particles = [Particle(bounds) for _ in range(num_particles)]\n",
    "        self.global_best_position = None\n",
    "        self.global_best_fitness = float('-inf')\n",
    "        \n",
    "        # History for visualization\n",
    "        self.history = []\n",
    "    \n",
    "    def update_particle(self, particle):\n",
    "        for param in self.bounds.keys():\n",
    "            # Update velocity\n",
    "            r1, r2 = random.random(), random.random()\n",
    "            cognitive = self.c1 * r1 * (particle.best_position[param] - particle.position[param])\n",
    "            social = self.c2 * r2 * (self.global_best_position[param] - particle.position[param])\n",
    "            particle.velocity[param] = self.w * particle.velocity[param] + cognitive + social\n",
    "            \n",
    "            # Update position\n",
    "            particle.position[param] += particle.velocity[param]\n",
    "            \n",
    "            # Ensure position is within bounds\n",
    "            min_val, max_val = self.bounds[param]\n",
    "            particle.position[param] = max(min_val, min(max_val, particle.position[param]))\n",
    "            \n",
    "            # Round to integer if the parameter should be an integer\n",
    "            if isinstance(min_val, int) and isinstance(max_val, int):\n",
    "                particle.position[param] = int(round(particle.position[param]))\n",
    "    \n",
    "    def optimize(self, fitness_function):\n",
    "        for iteration in range(self.max_iter):\n",
    "            print(f\"PSO Iteration {iteration+1}/{self.max_iter}\")\n",
    "            \n",
    "            for i, particle in enumerate(self.particles):\n",
    "                # Evaluate fitness\n",
    "                fitness = fitness_function(particle.position)\n",
    "                print(f\"Particle {i+1}: {particle.position}, Fitness: {fitness:.4f}\")\n",
    "                \n",
    "                # Update particle's best position\n",
    "                if fitness > particle.best_fitness:\n",
    "                    particle.best_fitness = fitness\n",
    "                    particle.best_position = particle.position.copy()\n",
    "                \n",
    "                # Update global best position\n",
    "                if fitness > self.global_best_fitness:\n",
    "                    self.global_best_fitness = fitness\n",
    "                    self.global_best_position = particle.position.copy()\n",
    "            \n",
    "            # Save history\n",
    "            self.history.append({\n",
    "                'iteration': iteration,\n",
    "                'global_best_position': self.global_best_position.copy(),\n",
    "                'global_best_fitness': self.global_best_fitness\n",
    "            })\n",
    "            \n",
    "            # Update particles\n",
    "            for particle in self.particles:\n",
    "                self.update_particle(particle)\n",
    "            \n",
    "            print(f\"Global best: {self.global_best_position}, Fitness: {self.global_best_fitness:.4f}\")\n",
    "            print(\"-\" * 50)\n",
    "        \n",
    "        return self.global_best_position, self.global_best_fitness, self.history\n",
    "\n",
    "def evaluate_hyperparameters(hyperparams):\n",
    "    # Extract hyperparameters\n",
    "    batch_size = hyperparams['batch_size']\n",
    "    learning_rate = hyperparams['learning_rate']\n",
    "    dropout_rate = hyperparams['dropout_rate']\n",
    "    num_conv_layers = hyperparams['num_conv_layers']\n",
    "    num_dense_layers = hyperparams['num_dense_layers']\n",
    "    num_epochs = 3  # Use fewer epochs for optimization\n",
    "    \n",
    "    # Load data with current batch size\n",
    "    train_loader, val_loader, _, _ = load_data(batch_size=batch_size)\n",
    "    \n",
    "    # Create model with current hyperparameters\n",
    "    model = PlantDiseaseModel(\n",
    "        num_classes=num_classes,\n",
    "        dropout_rate=dropout_rate,\n",
    "        num_conv_layers=num_conv_layers,\n",
    "        num_dense_layers=num_dense_layers\n",
    "    ).to(device)\n",
    "    \n",
    "    # Define loss function and optimizer\n",
    "    criterion = nn.CrossEntropyLoss()\n",
    "    optimizer = optim.Adam(model.parameters(), lr=learning_rate)\n",
    "    \n",
    "    # Train model\n",
    "    _, metrics = train_model(model, train_loader, val_loader, criterion, optimizer, num_epochs=num_epochs)\n",
    "    \n",
    "    # Return validation accuracy as fitness\n",
    "    return metrics['best_val_acc']\n",
    "\n",
    "# Define hyperparameter bounds for PSO\n",
    "hyperparameter_bounds = {\n",
    "    'batch_size': (16, 64),\n",
    "    'learning_rate': (0.0001, 0.01),\n",
    "    'dropout_rate': (0.2, 0.7),\n",
    "    'num_conv_layers': (3, 5),\n",
    "    'num_dense_layers': (1, 3)\n",
    "}"
   ]
  },
  {
   "cell_type": "markdown",
   "metadata": {},
   "source": [
    "## 6. Train Base Model"
   ]
  },
  {
   "cell_type": "code",
   "execution_count": 9,
   "metadata": {},
   "outputs": [
    {
     "name": "stdout",
     "output_type": "stream",
     "text": [
      "Training base model...\n"
     ]
    },
    {
     "data": {
      "application/vnd.jupyter.widget-view+json": {
       "model_id": "dd7f66afc49e49db84a74416a88e6968",
       "version_major": 2,
       "version_minor": 0
      },
      "text/plain": [
       "Epoch 1/10 [Train]:   0%|          | 0/1358 [00:00<?, ?it/s]"
      ]
     },
     "metadata": {},
     "output_type": "display_data"
    },
    {
     "ename": "KeyboardInterrupt",
     "evalue": "",
     "output_type": "error",
     "traceback": [
      "\u001b[31m---------------------------------------------------------------------------\u001b[39m",
      "\u001b[31mKeyboardInterrupt\u001b[39m                         Traceback (most recent call last)",
      "\u001b[36mCell\u001b[39m\u001b[36m \u001b[39m\u001b[32mIn[9]\u001b[39m\u001b[32m, line 28\u001b[39m\n\u001b[32m     26\u001b[39m \u001b[38;5;66;03m# Train base model\u001b[39;00m\n\u001b[32m     27\u001b[39m \u001b[38;5;28mprint\u001b[39m(\u001b[33m\"\u001b[39m\u001b[33mTraining base model...\u001b[39m\u001b[33m\"\u001b[39m)\n\u001b[32m---> \u001b[39m\u001b[32m28\u001b[39m base_model, base_metrics = \u001b[43mtrain_model\u001b[49m\u001b[43m(\u001b[49m\n\u001b[32m     29\u001b[39m \u001b[43m    \u001b[49m\u001b[43mbase_model\u001b[49m\u001b[43m,\u001b[49m\u001b[43m \u001b[49m\n\u001b[32m     30\u001b[39m \u001b[43m    \u001b[49m\u001b[43mtrain_loader\u001b[49m\u001b[43m,\u001b[49m\u001b[43m \u001b[49m\n\u001b[32m     31\u001b[39m \u001b[43m    \u001b[49m\u001b[43mval_loader\u001b[49m\u001b[43m,\u001b[49m\u001b[43m \u001b[49m\n\u001b[32m     32\u001b[39m \u001b[43m    \u001b[49m\u001b[43mcriterion\u001b[49m\u001b[43m,\u001b[49m\u001b[43m \u001b[49m\n\u001b[32m     33\u001b[39m \u001b[43m    \u001b[49m\u001b[43moptimizer\u001b[49m\u001b[43m,\u001b[49m\u001b[43m \u001b[49m\n\u001b[32m     34\u001b[39m \u001b[43m    \u001b[49m\u001b[43mnum_epochs\u001b[49m\u001b[43m=\u001b[49m\u001b[43mbase_hyperparams\u001b[49m\u001b[43m[\u001b[49m\u001b[33;43m'\u001b[39;49m\u001b[33;43mnum_epochs\u001b[39;49m\u001b[33;43m'\u001b[39;49m\u001b[43m]\u001b[49m\n\u001b[32m     35\u001b[39m \u001b[43m)\u001b[49m\n\u001b[32m     37\u001b[39m \u001b[38;5;66;03m# Save base model\u001b[39;00m\n\u001b[32m     38\u001b[39m torch.save(base_model.state_dict(), \u001b[33m'\u001b[39m\u001b[33mbase_model.pt\u001b[39m\u001b[33m'\u001b[39m)\n",
      "\u001b[36mCell\u001b[39m\u001b[36m \u001b[39m\u001b[32mIn[7]\u001b[39m\u001b[32m, line 19\u001b[39m, in \u001b[36mtrain_model\u001b[39m\u001b[34m(model, train_loader, val_loader, criterion, optimizer, num_epochs)\u001b[39m\n\u001b[32m     16\u001b[39m running_loss = \u001b[32m0.0\u001b[39m\n\u001b[32m     17\u001b[39m running_corrects = \u001b[32m0\u001b[39m\n\u001b[32m---> \u001b[39m\u001b[32m19\u001b[39m \u001b[43m\u001b[49m\u001b[38;5;28;43;01mfor\u001b[39;49;00m\u001b[43m \u001b[49m\u001b[43minputs\u001b[49m\u001b[43m,\u001b[49m\u001b[43m \u001b[49m\u001b[43mlabels\u001b[49m\u001b[43m \u001b[49m\u001b[38;5;129;43;01min\u001b[39;49;00m\u001b[43m \u001b[49m\u001b[43mtqdm\u001b[49m\u001b[43m(\u001b[49m\u001b[43mtrain_loader\u001b[49m\u001b[43m,\u001b[49m\u001b[43m \u001b[49m\u001b[43mdesc\u001b[49m\u001b[43m=\u001b[49m\u001b[33;43mf\u001b[39;49m\u001b[33;43m\"\u001b[39;49m\u001b[33;43mEpoch \u001b[39;49m\u001b[38;5;132;43;01m{\u001b[39;49;00m\u001b[43mepoch\u001b[49m\u001b[43m+\u001b[49m\u001b[32;43m1\u001b[39;49m\u001b[38;5;132;43;01m}\u001b[39;49;00m\u001b[33;43m/\u001b[39;49m\u001b[38;5;132;43;01m{\u001b[39;49;00m\u001b[43mnum_epochs\u001b[49m\u001b[38;5;132;43;01m}\u001b[39;49;00m\u001b[33;43m [Train]\u001b[39;49m\u001b[33;43m\"\u001b[39;49m\u001b[43m)\u001b[49m\u001b[43m:\u001b[49m\n\u001b[32m     20\u001b[39m \u001b[43m    \u001b[49m\u001b[43minputs\u001b[49m\u001b[43m \u001b[49m\u001b[43m=\u001b[49m\u001b[43m \u001b[49m\u001b[43minputs\u001b[49m\u001b[43m.\u001b[49m\u001b[43mto\u001b[49m\u001b[43m(\u001b[49m\u001b[43mdevice\u001b[49m\u001b[43m)\u001b[49m\n\u001b[32m     21\u001b[39m \u001b[43m    \u001b[49m\u001b[43mlabels\u001b[49m\u001b[43m \u001b[49m\u001b[43m=\u001b[49m\u001b[43m \u001b[49m\u001b[43mlabels\u001b[49m\u001b[43m.\u001b[49m\u001b[43mto\u001b[49m\u001b[43m(\u001b[49m\u001b[43mdevice\u001b[49m\u001b[43m)\u001b[49m\n",
      "\u001b[36mFile \u001b[39m\u001b[32mc:\\Users\\PCCV\\anaconda3\\envs\\myenv\\Lib\\site-packages\\tqdm\\notebook.py:250\u001b[39m, in \u001b[36mtqdm_notebook.__iter__\u001b[39m\u001b[34m(self)\u001b[39m\n\u001b[32m    248\u001b[39m \u001b[38;5;28;01mtry\u001b[39;00m:\n\u001b[32m    249\u001b[39m     it = \u001b[38;5;28msuper\u001b[39m().\u001b[34m__iter__\u001b[39m()\n\u001b[32m--> \u001b[39m\u001b[32m250\u001b[39m \u001b[43m    \u001b[49m\u001b[38;5;28;43;01mfor\u001b[39;49;00m\u001b[43m \u001b[49m\u001b[43mobj\u001b[49m\u001b[43m \u001b[49m\u001b[38;5;129;43;01min\u001b[39;49;00m\u001b[43m \u001b[49m\u001b[43mit\u001b[49m\u001b[43m:\u001b[49m\n\u001b[32m    251\u001b[39m \u001b[43m        \u001b[49m\u001b[38;5;66;43;03m# return super(tqdm...) will not catch exception\u001b[39;49;00m\n\u001b[32m    252\u001b[39m \u001b[43m        \u001b[49m\u001b[38;5;28;43;01myield\u001b[39;49;00m\u001b[43m \u001b[49m\u001b[43mobj\u001b[49m\n\u001b[32m    253\u001b[39m \u001b[38;5;66;03m# NB: except ... [ as ...] breaks IPython async KeyboardInterrupt\u001b[39;00m\n",
      "\u001b[36mFile \u001b[39m\u001b[32mc:\\Users\\PCCV\\anaconda3\\envs\\myenv\\Lib\\site-packages\\tqdm\\std.py:1181\u001b[39m, in \u001b[36mtqdm.__iter__\u001b[39m\u001b[34m(self)\u001b[39m\n\u001b[32m   1178\u001b[39m time = \u001b[38;5;28mself\u001b[39m._time\n\u001b[32m   1180\u001b[39m \u001b[38;5;28;01mtry\u001b[39;00m:\n\u001b[32m-> \u001b[39m\u001b[32m1181\u001b[39m \u001b[43m    \u001b[49m\u001b[38;5;28;43;01mfor\u001b[39;49;00m\u001b[43m \u001b[49m\u001b[43mobj\u001b[49m\u001b[43m \u001b[49m\u001b[38;5;129;43;01min\u001b[39;49;00m\u001b[43m \u001b[49m\u001b[43miterable\u001b[49m\u001b[43m:\u001b[49m\n\u001b[32m   1182\u001b[39m \u001b[43m        \u001b[49m\u001b[38;5;28;43;01myield\u001b[39;49;00m\u001b[43m \u001b[49m\u001b[43mobj\u001b[49m\n\u001b[32m   1183\u001b[39m \u001b[43m        \u001b[49m\u001b[38;5;66;43;03m# Update and possibly print the progressbar.\u001b[39;49;00m\n\u001b[32m   1184\u001b[39m \u001b[43m        \u001b[49m\u001b[38;5;66;43;03m# Note: does not call self.update(1) for speed optimisation.\u001b[39;49;00m\n",
      "\u001b[36mFile \u001b[39m\u001b[32mc:\\Users\\PCCV\\anaconda3\\envs\\myenv\\Lib\\site-packages\\torch\\utils\\data\\dataloader.py:493\u001b[39m, in \u001b[36mDataLoader.__iter__\u001b[39m\u001b[34m(self)\u001b[39m\n\u001b[32m    491\u001b[39m     \u001b[38;5;28;01mreturn\u001b[39;00m \u001b[38;5;28mself\u001b[39m._iterator\n\u001b[32m    492\u001b[39m \u001b[38;5;28;01melse\u001b[39;00m:\n\u001b[32m--> \u001b[39m\u001b[32m493\u001b[39m     \u001b[38;5;28;01mreturn\u001b[39;00m \u001b[38;5;28;43mself\u001b[39;49m\u001b[43m.\u001b[49m\u001b[43m_get_iterator\u001b[49m\u001b[43m(\u001b[49m\u001b[43m)\u001b[49m\n",
      "\u001b[36mFile \u001b[39m\u001b[32mc:\\Users\\PCCV\\anaconda3\\envs\\myenv\\Lib\\site-packages\\torch\\utils\\data\\dataloader.py:424\u001b[39m, in \u001b[36mDataLoader._get_iterator\u001b[39m\u001b[34m(self)\u001b[39m\n\u001b[32m    422\u001b[39m \u001b[38;5;28;01melse\u001b[39;00m:\n\u001b[32m    423\u001b[39m     \u001b[38;5;28mself\u001b[39m.check_worker_number_rationality()\n\u001b[32m--> \u001b[39m\u001b[32m424\u001b[39m     \u001b[38;5;28;01mreturn\u001b[39;00m \u001b[43m_MultiProcessingDataLoaderIter\u001b[49m\u001b[43m(\u001b[49m\u001b[38;5;28;43mself\u001b[39;49m\u001b[43m)\u001b[49m\n",
      "\u001b[36mFile \u001b[39m\u001b[32mc:\\Users\\PCCV\\anaconda3\\envs\\myenv\\Lib\\site-packages\\torch\\utils\\data\\dataloader.py:1171\u001b[39m, in \u001b[36m_MultiProcessingDataLoaderIter.__init__\u001b[39m\u001b[34m(self, loader)\u001b[39m\n\u001b[32m   1164\u001b[39m w.daemon = \u001b[38;5;28;01mTrue\u001b[39;00m\n\u001b[32m   1165\u001b[39m \u001b[38;5;66;03m# NB: Process.start() actually take some time as it needs to\u001b[39;00m\n\u001b[32m   1166\u001b[39m \u001b[38;5;66;03m#     start a process and pass the arguments over via a pipe.\u001b[39;00m\n\u001b[32m   1167\u001b[39m \u001b[38;5;66;03m#     Therefore, we only add a worker to self._workers list after\u001b[39;00m\n\u001b[32m   1168\u001b[39m \u001b[38;5;66;03m#     it started, so that we do not call .join() if program dies\u001b[39;00m\n\u001b[32m   1169\u001b[39m \u001b[38;5;66;03m#     before it starts, and __del__ tries to join but will get:\u001b[39;00m\n\u001b[32m   1170\u001b[39m \u001b[38;5;66;03m#     AssertionError: can only join a started process.\u001b[39;00m\n\u001b[32m-> \u001b[39m\u001b[32m1171\u001b[39m \u001b[43mw\u001b[49m\u001b[43m.\u001b[49m\u001b[43mstart\u001b[49m\u001b[43m(\u001b[49m\u001b[43m)\u001b[49m\n\u001b[32m   1172\u001b[39m \u001b[38;5;28mself\u001b[39m._index_queues.append(index_queue)\n\u001b[32m   1173\u001b[39m \u001b[38;5;28mself\u001b[39m._workers.append(w)\n",
      "\u001b[36mFile \u001b[39m\u001b[32mc:\\Users\\PCCV\\anaconda3\\envs\\myenv\\Lib\\multiprocessing\\process.py:121\u001b[39m, in \u001b[36mBaseProcess.start\u001b[39m\u001b[34m(self)\u001b[39m\n\u001b[32m    118\u001b[39m \u001b[38;5;28;01massert\u001b[39;00m \u001b[38;5;129;01mnot\u001b[39;00m _current_process._config.get(\u001b[33m'\u001b[39m\u001b[33mdaemon\u001b[39m\u001b[33m'\u001b[39m), \\\n\u001b[32m    119\u001b[39m        \u001b[33m'\u001b[39m\u001b[33mdaemonic processes are not allowed to have children\u001b[39m\u001b[33m'\u001b[39m\n\u001b[32m    120\u001b[39m _cleanup()\n\u001b[32m--> \u001b[39m\u001b[32m121\u001b[39m \u001b[38;5;28mself\u001b[39m._popen = \u001b[38;5;28;43mself\u001b[39;49m\u001b[43m.\u001b[49m\u001b[43m_Popen\u001b[49m\u001b[43m(\u001b[49m\u001b[38;5;28;43mself\u001b[39;49m\u001b[43m)\u001b[49m\n\u001b[32m    122\u001b[39m \u001b[38;5;28mself\u001b[39m._sentinel = \u001b[38;5;28mself\u001b[39m._popen.sentinel\n\u001b[32m    123\u001b[39m \u001b[38;5;66;03m# Avoid a refcycle if the target function holds an indirect\u001b[39;00m\n\u001b[32m    124\u001b[39m \u001b[38;5;66;03m# reference to the process object (see bpo-30775)\u001b[39;00m\n",
      "\u001b[36mFile \u001b[39m\u001b[32mc:\\Users\\PCCV\\anaconda3\\envs\\myenv\\Lib\\multiprocessing\\context.py:224\u001b[39m, in \u001b[36mProcess._Popen\u001b[39m\u001b[34m(process_obj)\u001b[39m\n\u001b[32m    222\u001b[39m \u001b[38;5;129m@staticmethod\u001b[39m\n\u001b[32m    223\u001b[39m \u001b[38;5;28;01mdef\u001b[39;00m\u001b[38;5;250m \u001b[39m\u001b[34m_Popen\u001b[39m(process_obj):\n\u001b[32m--> \u001b[39m\u001b[32m224\u001b[39m     \u001b[38;5;28;01mreturn\u001b[39;00m \u001b[43m_default_context\u001b[49m\u001b[43m.\u001b[49m\u001b[43mget_context\u001b[49m\u001b[43m(\u001b[49m\u001b[43m)\u001b[49m\u001b[43m.\u001b[49m\u001b[43mProcess\u001b[49m\u001b[43m.\u001b[49m\u001b[43m_Popen\u001b[49m\u001b[43m(\u001b[49m\u001b[43mprocess_obj\u001b[49m\u001b[43m)\u001b[49m\n",
      "\u001b[36mFile \u001b[39m\u001b[32mc:\\Users\\PCCV\\anaconda3\\envs\\myenv\\Lib\\multiprocessing\\context.py:336\u001b[39m, in \u001b[36mSpawnProcess._Popen\u001b[39m\u001b[34m(process_obj)\u001b[39m\n\u001b[32m    333\u001b[39m \u001b[38;5;129m@staticmethod\u001b[39m\n\u001b[32m    334\u001b[39m \u001b[38;5;28;01mdef\u001b[39;00m\u001b[38;5;250m \u001b[39m\u001b[34m_Popen\u001b[39m(process_obj):\n\u001b[32m    335\u001b[39m     \u001b[38;5;28;01mfrom\u001b[39;00m\u001b[38;5;250m \u001b[39m\u001b[34;01m.\u001b[39;00m\u001b[34;01mpopen_spawn_win32\u001b[39;00m\u001b[38;5;250m \u001b[39m\u001b[38;5;28;01mimport\u001b[39;00m Popen\n\u001b[32m--> \u001b[39m\u001b[32m336\u001b[39m     \u001b[38;5;28;01mreturn\u001b[39;00m \u001b[43mPopen\u001b[49m\u001b[43m(\u001b[49m\u001b[43mprocess_obj\u001b[49m\u001b[43m)\u001b[49m\n",
      "\u001b[36mFile \u001b[39m\u001b[32mc:\\Users\\PCCV\\anaconda3\\envs\\myenv\\Lib\\multiprocessing\\popen_spawn_win32.py:95\u001b[39m, in \u001b[36mPopen.__init__\u001b[39m\u001b[34m(self, process_obj)\u001b[39m\n\u001b[32m     93\u001b[39m \u001b[38;5;28;01mtry\u001b[39;00m:\n\u001b[32m     94\u001b[39m     reduction.dump(prep_data, to_child)\n\u001b[32m---> \u001b[39m\u001b[32m95\u001b[39m     \u001b[43mreduction\u001b[49m\u001b[43m.\u001b[49m\u001b[43mdump\u001b[49m\u001b[43m(\u001b[49m\u001b[43mprocess_obj\u001b[49m\u001b[43m,\u001b[49m\u001b[43m \u001b[49m\u001b[43mto_child\u001b[49m\u001b[43m)\u001b[49m\n\u001b[32m     96\u001b[39m \u001b[38;5;28;01mfinally\u001b[39;00m:\n\u001b[32m     97\u001b[39m     set_spawning_popen(\u001b[38;5;28;01mNone\u001b[39;00m)\n",
      "\u001b[36mFile \u001b[39m\u001b[32mc:\\Users\\PCCV\\anaconda3\\envs\\myenv\\Lib\\multiprocessing\\reduction.py:60\u001b[39m, in \u001b[36mdump\u001b[39m\u001b[34m(obj, file, protocol)\u001b[39m\n\u001b[32m     58\u001b[39m \u001b[38;5;28;01mdef\u001b[39;00m\u001b[38;5;250m \u001b[39m\u001b[34mdump\u001b[39m(obj, file, protocol=\u001b[38;5;28;01mNone\u001b[39;00m):\n\u001b[32m     59\u001b[39m \u001b[38;5;250m    \u001b[39m\u001b[33;03m'''Replacement for pickle.dump() using ForkingPickler.'''\u001b[39;00m\n\u001b[32m---> \u001b[39m\u001b[32m60\u001b[39m     \u001b[43mForkingPickler\u001b[49m\u001b[43m(\u001b[49m\u001b[43mfile\u001b[49m\u001b[43m,\u001b[49m\u001b[43m \u001b[49m\u001b[43mprotocol\u001b[49m\u001b[43m)\u001b[49m\u001b[43m.\u001b[49m\u001b[43mdump\u001b[49m\u001b[43m(\u001b[49m\u001b[43mobj\u001b[49m\u001b[43m)\u001b[49m\n",
      "\u001b[31mKeyboardInterrupt\u001b[39m: "
     ]
    }
   ],
   "source": [
    "# Define base hyperparameters\n",
    "base_hyperparams = {\n",
    "    'batch_size': 32,\n",
    "    'learning_rate': 0.001,\n",
    "    'dropout_rate': 0.5,\n",
    "    'num_conv_layers': 4,\n",
    "    'num_dense_layers': 2,\n",
    "    'num_epochs': 10\n",
    "}\n",
    "\n",
    "# Load data with base batch size\n",
    "train_loader, val_loader, _, _ = load_data(batch_size=base_hyperparams['batch_size'])\n",
    "\n",
    "# Create base model\n",
    "base_model = PlantDiseaseModel(\n",
    "    num_classes=num_classes,\n",
    "    dropout_rate=base_hyperparams['dropout_rate'],\n",
    "    num_conv_layers=base_hyperparams['num_conv_layers'],\n",
    "    num_dense_layers=base_hyperparams['num_dense_layers']\n",
    ").to(device)\n",
    "\n",
    "# Define loss function and optimizer\n",
    "criterion = nn.CrossEntropyLoss()\n",
    "optimizer = optim.Adam(base_model.parameters(), lr=base_hyperparams['learning_rate'])\n",
    "\n",
    "# Train base model\n",
    "print(\"Training base model...\")\n",
    "base_model, base_metrics = train_model(\n",
    "    base_model, \n",
    "    train_loader, \n",
    "    val_loader, \n",
    "    criterion, \n",
    "    optimizer, \n",
    "    num_epochs=base_hyperparams['num_epochs']\n",
    ")\n",
    "\n",
    "# Save base model\n",
    "torch.save(base_model.state_dict(), 'base_model.pt')\n",
    "print(f\"Base model saved with validation accuracy: {base_metrics['best_val_acc']:.4f}\")"
   ]
  },
  {
   "cell_type": "markdown",
   "metadata": {},
   "source": [
    "## 7. Optimize Model with PSO"
   ]
  },
  {
   "cell_type": "code",
   "execution_count": null,
   "metadata": {},
   "outputs": [
    {
     "name": "stdout",
     "output_type": "stream",
     "text": [
      "Running PSO optimization...\n",
      "PSO Iteration 1/5\n"
     ]
    },
    {
     "data": {
      "application/vnd.jupyter.widget-view+json": {
       "model_id": "938f465ccfa045c287253bfb2c2cf976",
       "version_major": 2,
       "version_minor": 0
      },
      "text/plain": [
       "Epoch 1/3 [Train]:   0%|          | 0/776 [00:00<?, ?it/s]"
      ]
     },
     "metadata": {},
     "output_type": "display_data"
    },
    {
     "data": {
      "application/vnd.jupyter.widget-view+json": {
       "model_id": "18a8c7cdb2a24f90b5bbb6637100d618",
       "version_major": 2,
       "version_minor": 0
      },
      "text/plain": [
       "Epoch 1/3 [Val]:   0%|          | 0/194 [00:00<?, ?it/s]"
      ]
     },
     "metadata": {},
     "output_type": "display_data"
    },
    {
     "name": "stdout",
     "output_type": "stream",
     "text": [
      "Epoch 1/3 completed in 1660.90s\n",
      "Train Loss: 1.8320, Train Acc: 0.4981\n",
      "Val Loss: 0.8708, Val Acc: 0.7341\n",
      "--------------------------------------------------\n"
     ]
    },
    {
     "data": {
      "application/vnd.jupyter.widget-view+json": {
       "model_id": "cb5c2f86f5c343cf8255feaff9c9cba5",
       "version_major": 2,
       "version_minor": 0
      },
      "text/plain": [
       "Epoch 2/3 [Train]:   0%|          | 0/776 [00:00<?, ?it/s]"
      ]
     },
     "metadata": {},
     "output_type": "display_data"
    },
    {
     "data": {
      "application/vnd.jupyter.widget-view+json": {
       "model_id": "3df75d7aaf1d4c59989a52c824252aec",
       "version_major": 2,
       "version_minor": 0
      },
      "text/plain": [
       "Epoch 2/3 [Val]:   0%|          | 0/194 [00:00<?, ?it/s]"
      ]
     },
     "metadata": {},
     "output_type": "display_data"
    },
    {
     "name": "stdout",
     "output_type": "stream",
     "text": [
      "Epoch 2/3 completed in 1656.74s\n",
      "Train Loss: 0.9463, Train Acc: 0.7185\n",
      "Val Loss: 0.4849, Val Acc: 0.8515\n",
      "--------------------------------------------------\n"
     ]
    },
    {
     "data": {
      "application/vnd.jupyter.widget-view+json": {
       "model_id": "38842be9993c431ba4929991f551ec8f",
       "version_major": 2,
       "version_minor": 0
      },
      "text/plain": [
       "Epoch 3/3 [Train]:   0%|          | 0/776 [00:00<?, ?it/s]"
      ]
     },
     "metadata": {},
     "output_type": "display_data"
    },
    {
     "data": {
      "application/vnd.jupyter.widget-view+json": {
       "model_id": "a2006efe1c0941d8933cf40c86f5f8d2",
       "version_major": 2,
       "version_minor": 0
      },
      "text/plain": [
       "Epoch 3/3 [Val]:   0%|          | 0/194 [00:00<?, ?it/s]"
      ]
     },
     "metadata": {},
     "output_type": "display_data"
    },
    {
     "name": "stdout",
     "output_type": "stream",
     "text": [
      "Epoch 3/3 completed in 1653.62s\n",
      "Train Loss: 0.6940, Train Acc: 0.7890\n",
      "Val Loss: 0.3935, Val Acc: 0.8764\n",
      "--------------------------------------------------\n",
      "Particle 1: {'batch_size': 56, 'learning_rate': 0.00034760647670440266, 'dropout_rate': 0.3116053690744114, 'num_conv_layers': 5, 'num_dense_layers': 3}, Fitness: 0.8764\n"
     ]
    },
    {
     "data": {
      "application/vnd.jupyter.widget-view+json": {
       "model_id": "6a77d3e0d7744c2d95d85f36fd0686b7",
       "version_major": 2,
       "version_minor": 0
      },
      "text/plain": [
       "Epoch 1/3 [Train]:   0%|          | 0/820 [00:00<?, ?it/s]"
      ]
     },
     "metadata": {},
     "output_type": "display_data"
    },
    {
     "data": {
      "application/vnd.jupyter.widget-view+json": {
       "model_id": "049a6225a5a1404db95f1e5134fd8df3",
       "version_major": 2,
       "version_minor": 0
      },
      "text/plain": [
       "Epoch 1/3 [Val]:   0%|          | 0/205 [00:00<?, ?it/s]"
      ]
     },
     "metadata": {},
     "output_type": "display_data"
    },
    {
     "name": "stdout",
     "output_type": "stream",
     "text": [
      "Epoch 1/3 completed in 1670.19s\n",
      "Train Loss: 1.8518, Train Acc: 0.4855\n",
      "Val Loss: 0.9674, Val Acc: 0.7065\n",
      "--------------------------------------------------\n"
     ]
    },
    {
     "data": {
      "application/vnd.jupyter.widget-view+json": {
       "model_id": "58e12c9544f642759dd884b5ff0ba723",
       "version_major": 2,
       "version_minor": 0
      },
      "text/plain": [
       "Epoch 2/3 [Train]:   0%|          | 0/820 [00:00<?, ?it/s]"
      ]
     },
     "metadata": {},
     "output_type": "display_data"
    },
    {
     "data": {
      "application/vnd.jupyter.widget-view+json": {
       "model_id": "8ae1ec8922ea4f9e921434ae052e9181",
       "version_major": 2,
       "version_minor": 0
      },
      "text/plain": [
       "Epoch 2/3 [Val]:   0%|          | 0/205 [00:00<?, ?it/s]"
      ]
     },
     "metadata": {},
     "output_type": "display_data"
    },
    {
     "name": "stdout",
     "output_type": "stream",
     "text": [
      "Epoch 2/3 completed in 1682.19s\n",
      "Train Loss: 1.0035, Train Acc: 0.6995\n",
      "Val Loss: 0.5699, Val Acc: 0.8283\n",
      "--------------------------------------------------\n"
     ]
    },
    {
     "data": {
      "application/vnd.jupyter.widget-view+json": {
       "model_id": "da0e64e925914470a4b883939235a6c8",
       "version_major": 2,
       "version_minor": 0
      },
      "text/plain": [
       "Epoch 3/3 [Train]:   0%|          | 0/820 [00:00<?, ?it/s]"
      ]
     },
     "metadata": {},
     "output_type": "display_data"
    },
    {
     "data": {
      "application/vnd.jupyter.widget-view+json": {
       "model_id": "90055b50cf364fe6a9993575068a68a2",
       "version_major": 2,
       "version_minor": 0
      },
      "text/plain": [
       "Epoch 3/3 [Val]:   0%|          | 0/205 [00:00<?, ?it/s]"
      ]
     },
     "metadata": {},
     "output_type": "display_data"
    },
    {
     "name": "stdout",
     "output_type": "stream",
     "text": [
      "Epoch 3/3 completed in 1674.17s\n",
      "Train Loss: 0.7329, Train Acc: 0.7774\n",
      "Val Loss: 0.4770, Val Acc: 0.8410\n",
      "--------------------------------------------------\n",
      "Particle 2: {'batch_size': 53, 'learning_rate': 0.0004146485268696576, 'dropout_rate': 0.3163304466953698, 'num_conv_layers': 5, 'num_dense_layers': 3}, Fitness: 0.8410\n"
     ]
    },
    {
     "data": {
      "application/vnd.jupyter.widget-view+json": {
       "model_id": "e38db06858834f468f62fb0ac54d2865",
       "version_major": 2,
       "version_minor": 0
      },
      "text/plain": [
       "Epoch 1/3 [Train]:   0%|          | 0/725 [00:00<?, ?it/s]"
      ]
     },
     "metadata": {},
     "output_type": "display_data"
    },
    {
     "data": {
      "application/vnd.jupyter.widget-view+json": {
       "model_id": "a4155dd54c0c433c9c7fc6a035aa2849",
       "version_major": 2,
       "version_minor": 0
      },
      "text/plain": [
       "Epoch 1/3 [Val]:   0%|          | 0/182 [00:00<?, ?it/s]"
      ]
     },
     "metadata": {},
     "output_type": "display_data"
    },
    {
     "name": "stdout",
     "output_type": "stream",
     "text": [
      "Epoch 1/3 completed in 2046.86s\n",
      "Train Loss: 3.6544, Train Acc: 0.2036\n",
      "Val Loss: 2.4858, Val Acc: 0.2651\n",
      "--------------------------------------------------\n"
     ]
    },
    {
     "data": {
      "application/vnd.jupyter.widget-view+json": {
       "model_id": "445d1562b76f4151b322fae229cc11d5",
       "version_major": 2,
       "version_minor": 0
      },
      "text/plain": [
       "Epoch 2/3 [Train]:   0%|          | 0/725 [00:00<?, ?it/s]"
      ]
     },
     "metadata": {},
     "output_type": "display_data"
    },
    {
     "data": {
      "application/vnd.jupyter.widget-view+json": {
       "model_id": "8736b01b5c474c4e8cbadadc33d98986",
       "version_major": 2,
       "version_minor": 0
      },
      "text/plain": [
       "Epoch 2/3 [Val]:   0%|          | 0/182 [00:00<?, ?it/s]"
      ]
     },
     "metadata": {},
     "output_type": "display_data"
    },
    {
     "name": "stdout",
     "output_type": "stream",
     "text": [
      "Epoch 2/3 completed in 2045.29s\n",
      "Train Loss: 2.8434, Train Acc: 0.2109\n",
      "Val Loss: 2.5301, Val Acc: 0.2409\n",
      "--------------------------------------------------\n"
     ]
    },
    {
     "data": {
      "application/vnd.jupyter.widget-view+json": {
       "model_id": "e8a003fad4604e5d9d59ad6f18901c37",
       "version_major": 2,
       "version_minor": 0
      },
      "text/plain": [
       "Epoch 3/3 [Train]:   0%|          | 0/725 [00:00<?, ?it/s]"
      ]
     },
     "metadata": {},
     "output_type": "display_data"
    },
    {
     "data": {
      "application/vnd.jupyter.widget-view+json": {
       "model_id": "fc32aeab5a96488696571c6837bc310f",
       "version_major": 2,
       "version_minor": 0
      },
      "text/plain": [
       "Epoch 3/3 [Val]:   0%|          | 0/182 [00:00<?, ?it/s]"
      ]
     },
     "metadata": {},
     "output_type": "display_data"
    },
    {
     "name": "stdout",
     "output_type": "stream",
     "text": [
      "Epoch 3/3 completed in 2052.81s\n",
      "Train Loss: 2.8830, Train Acc: 0.2095\n",
      "Val Loss: 2.4816, Val Acc: 0.2628\n",
      "--------------------------------------------------\n",
      "Particle 3: {'batch_size': 60, 'learning_rate': 0.004253246227520422, 'dropout_rate': 0.3390953541153313, 'num_conv_layers': 3, 'num_dense_layers': 2}, Fitness: 0.2651\n"
     ]
    },
    {
     "data": {
      "application/vnd.jupyter.widget-view+json": {
       "model_id": "0f66bd896bd0484286f6d8df00d17120",
       "version_major": 2,
       "version_minor": 0
      },
      "text/plain": [
       "Epoch 1/3 [Train]:   0%|          | 0/1317 [00:00<?, ?it/s]"
      ]
     },
     "metadata": {},
     "output_type": "display_data"
    },
    {
     "data": {
      "application/vnd.jupyter.widget-view+json": {
       "model_id": "9a90421494f7485dab85417aa332c4e0",
       "version_major": 2,
       "version_minor": 0
      },
      "text/plain": [
       "Epoch 1/3 [Val]:   0%|          | 0/330 [00:00<?, ?it/s]"
      ]
     },
     "metadata": {},
     "output_type": "display_data"
    },
    {
     "name": "stdout",
     "output_type": "stream",
     "text": [
      "Epoch 1/3 completed in 1065.26s\n",
      "Train Loss: 2.4721, Train Acc: 0.3261\n",
      "Val Loss: 1.6026, Val Acc: 0.5256\n",
      "--------------------------------------------------\n"
     ]
    },
    {
     "data": {
      "application/vnd.jupyter.widget-view+json": {
       "model_id": "446eebe461474acd9f33390b9cfde0c2",
       "version_major": 2,
       "version_minor": 0
      },
      "text/plain": [
       "Epoch 2/3 [Train]:   0%|          | 0/1317 [00:00<?, ?it/s]"
      ]
     },
     "metadata": {},
     "output_type": "display_data"
    },
    {
     "data": {
      "application/vnd.jupyter.widget-view+json": {
       "model_id": "89f28ed964f547c0a6735b8a7ad03bcf",
       "version_major": 2,
       "version_minor": 0
      },
      "text/plain": [
       "Epoch 2/3 [Val]:   0%|          | 0/330 [00:00<?, ?it/s]"
      ]
     },
     "metadata": {},
     "output_type": "display_data"
    },
    {
     "name": "stdout",
     "output_type": "stream",
     "text": [
      "Epoch 2/3 completed in 1064.67s\n",
      "Train Loss: 1.7609, Train Acc: 0.4989\n",
      "Val Loss: 1.1378, Val Acc: 0.6746\n",
      "--------------------------------------------------\n"
     ]
    },
    {
     "data": {
      "application/vnd.jupyter.widget-view+json": {
       "model_id": "437de1245d194b48aef967b1d5e4c426",
       "version_major": 2,
       "version_minor": 0
      },
      "text/plain": [
       "Epoch 3/3 [Train]:   0%|          | 0/1317 [00:00<?, ?it/s]"
      ]
     },
     "metadata": {},
     "output_type": "display_data"
    },
    {
     "data": {
      "application/vnd.jupyter.widget-view+json": {
       "model_id": "6a1e827413de4a9890a078a737c43c84",
       "version_major": 2,
       "version_minor": 0
      },
      "text/plain": [
       "Epoch 3/3 [Val]:   0%|          | 0/330 [00:00<?, ?it/s]"
      ]
     },
     "metadata": {},
     "output_type": "display_data"
    },
    {
     "name": "stdout",
     "output_type": "stream",
     "text": [
      "Epoch 3/3 completed in 1064.17s\n",
      "Train Loss: 1.4624, Train Acc: 0.5823\n",
      "Val Loss: 0.9143, Val Acc: 0.7369\n",
      "--------------------------------------------------\n",
      "Particle 4: {'batch_size': 33, 'learning_rate': 0.002231606244865129, 'dropout_rate': 0.25110513825992437, 'num_conv_layers': 4, 'num_dense_layers': 3}, Fitness: 0.7369\n"
     ]
    },
    {
     "data": {
      "application/vnd.jupyter.widget-view+json": {
       "model_id": "9cf08d815dee42c1a5a7bf37b0510c44",
       "version_major": 2,
       "version_minor": 0
      },
      "text/plain": [
       "Epoch 1/3 [Train]:   0%|          | 0/2414 [00:00<?, ?it/s]"
      ]
     },
     "metadata": {},
     "output_type": "display_data"
    },
    {
     "data": {
      "application/vnd.jupyter.widget-view+json": {
       "model_id": "48f45c39ac844e11a5139abb12b0f964",
       "version_major": 2,
       "version_minor": 0
      },
      "text/plain": [
       "Epoch 1/3 [Val]:   0%|          | 0/604 [00:00<?, ?it/s]"
      ]
     },
     "metadata": {},
     "output_type": "display_data"
    },
    {
     "name": "stdout",
     "output_type": "stream",
     "text": [
      "Epoch 1/3 completed in 199.64s\n",
      "Train Loss: 3.6376, Train Acc: 0.0984\n",
      "Val Loss: 3.3469, Val Acc: 0.1015\n",
      "--------------------------------------------------\n"
     ]
    },
    {
     "data": {
      "application/vnd.jupyter.widget-view+json": {
       "model_id": "4bb4bf4cd63e4619b55ca36ef47e199a",
       "version_major": 2,
       "version_minor": 0
      },
      "text/plain": [
       "Epoch 2/3 [Train]:   0%|          | 0/2414 [00:00<?, ?it/s]"
      ]
     },
     "metadata": {},
     "output_type": "display_data"
    },
    {
     "data": {
      "application/vnd.jupyter.widget-view+json": {
       "model_id": "1dc31b967512478897b85949c9604f58",
       "version_major": 2,
       "version_minor": 0
      },
      "text/plain": [
       "Epoch 2/3 [Val]:   0%|          | 0/604 [00:00<?, ?it/s]"
      ]
     },
     "metadata": {},
     "output_type": "display_data"
    },
    {
     "name": "stdout",
     "output_type": "stream",
     "text": [
      "Epoch 2/3 completed in 199.58s\n",
      "Train Loss: 3.3508, Train Acc: 0.0990\n",
      "Val Loss: 3.3453, Val Acc: 0.1015\n",
      "--------------------------------------------------\n"
     ]
    },
    {
     "data": {
      "application/vnd.jupyter.widget-view+json": {
       "model_id": "df6be4c4af3a4df7a9b11c554583c86a",
       "version_major": 2,
       "version_minor": 0
      },
      "text/plain": [
       "Epoch 3/3 [Train]:   0%|          | 0/2414 [00:00<?, ?it/s]"
      ]
     },
     "metadata": {},
     "output_type": "display_data"
    },
    {
     "data": {
      "application/vnd.jupyter.widget-view+json": {
       "model_id": "847e18e276d64855ac68670ca95c5db2",
       "version_major": 2,
       "version_minor": 0
      },
      "text/plain": [
       "Epoch 3/3 [Val]:   0%|          | 0/604 [00:00<?, ?it/s]"
      ]
     },
     "metadata": {},
     "output_type": "display_data"
    },
    {
     "name": "stdout",
     "output_type": "stream",
     "text": [
      "Epoch 3/3 completed in 199.55s\n",
      "Train Loss: 3.3469, Train Acc: 0.0995\n",
      "Val Loss: 3.3457, Val Acc: 0.1015\n",
      "--------------------------------------------------\n",
      "Particle 5: {'batch_size': 18, 'learning_rate': 0.004648306308751242, 'dropout_rate': 0.6611476860140799, 'num_conv_layers': 4, 'num_dense_layers': 3}, Fitness: 0.1015\n",
      "Global best: {'batch_size': 56, 'learning_rate': 0.00034760647670440266, 'dropout_rate': 0.3116053690744114, 'num_conv_layers': 5, 'num_dense_layers': 3}, Fitness: 0.8764\n",
      "--------------------------------------------------\n",
      "PSO Iteration 2/5\n"
     ]
    },
    {
     "data": {
      "application/vnd.jupyter.widget-view+json": {
       "model_id": "6b5d7417e21f4472810e2b9d18ec3c49",
       "version_major": 2,
       "version_minor": 0
      },
      "text/plain": [
       "Epoch 1/3 [Train]:   0%|          | 0/776 [00:00<?, ?it/s]"
      ]
     },
     "metadata": {},
     "output_type": "display_data"
    },
    {
     "data": {
      "application/vnd.jupyter.widget-view+json": {
       "model_id": "ab5d82fd28fe4dfd8a66bc1f15de802a",
       "version_major": 2,
       "version_minor": 0
      },
      "text/plain": [
       "Epoch 1/3 [Val]:   0%|          | 0/194 [00:00<?, ?it/s]"
      ]
     },
     "metadata": {},
     "output_type": "display_data"
    },
    {
     "name": "stdout",
     "output_type": "stream",
     "text": [
      "Epoch 1/3 completed in 1658.57s\n",
      "Train Loss: 1.5225, Train Acc: 0.5775\n",
      "Val Loss: 0.5533, Val Acc: 0.8391\n",
      "--------------------------------------------------\n"
     ]
    },
    {
     "data": {
      "application/vnd.jupyter.widget-view+json": {
       "model_id": "48e32d535ea24abb89fb5f2f68c1acd6",
       "version_major": 2,
       "version_minor": 0
      },
      "text/plain": [
       "Epoch 2/3 [Train]:   0%|          | 0/776 [00:00<?, ?it/s]"
      ]
     },
     "metadata": {},
     "output_type": "display_data"
    },
    {
     "data": {
      "application/vnd.jupyter.widget-view+json": {
       "model_id": "28832e0e01ee4fd4bd5cd83ec93c1133",
       "version_major": 2,
       "version_minor": 0
      },
      "text/plain": [
       "Epoch 2/3 [Val]:   0%|          | 0/194 [00:00<?, ?it/s]"
      ]
     },
     "metadata": {},
     "output_type": "display_data"
    },
    {
     "name": "stdout",
     "output_type": "stream",
     "text": [
      "Epoch 2/3 completed in 1676.47s\n",
      "Train Loss: 0.7137, Train Acc: 0.7813\n",
      "Val Loss: 0.3547, Val Acc: 0.8890\n",
      "--------------------------------------------------\n"
     ]
    },
    {
     "data": {
      "application/vnd.jupyter.widget-view+json": {
       "model_id": "a8e8a1dfa2864d489821013994878646",
       "version_major": 2,
       "version_minor": 0
      },
      "text/plain": [
       "Epoch 3/3 [Train]:   0%|          | 0/776 [00:00<?, ?it/s]"
      ]
     },
     "metadata": {},
     "output_type": "display_data"
    },
    {
     "data": {
      "application/vnd.jupyter.widget-view+json": {
       "model_id": "84f4a1948961475eb347700243f97d51",
       "version_major": 2,
       "version_minor": 0
      },
      "text/plain": [
       "Epoch 3/3 [Val]:   0%|          | 0/194 [00:00<?, ?it/s]"
      ]
     },
     "metadata": {},
     "output_type": "display_data"
    },
    {
     "name": "stdout",
     "output_type": "stream",
     "text": [
      "Epoch 3/3 completed in 1821.44s\n",
      "Train Loss: 0.4884, Train Acc: 0.8473\n",
      "Val Loss: 0.2099, Val Acc: 0.9335\n",
      "--------------------------------------------------\n",
      "Particle 1: {'batch_size': 56, 'learning_rate': 0.0001, 'dropout_rate': 0.3352524904908126, 'num_conv_layers': 5, 'num_dense_layers': 2}, Fitness: 0.9335\n"
     ]
    },
    {
     "data": {
      "application/vnd.jupyter.widget-view+json": {
       "model_id": "e9e8e2526c144bb18d9237d8a0c833ad",
       "version_major": 2,
       "version_minor": 0
      },
      "text/plain": [
       "Epoch 1/3 [Train]:   0%|          | 0/790 [00:00<?, ?it/s]"
      ]
     },
     "metadata": {},
     "output_type": "display_data"
    },
    {
     "data": {
      "application/vnd.jupyter.widget-view+json": {
       "model_id": "c5ad14aabd234af18f42fa193cd7a48c",
       "version_major": 2,
       "version_minor": 0
      },
      "text/plain": [
       "Epoch 1/3 [Val]:   0%|          | 0/198 [00:00<?, ?it/s]"
      ]
     },
     "metadata": {},
     "output_type": "display_data"
    },
    {
     "name": "stdout",
     "output_type": "stream",
     "text": [
      "Epoch 1/3 completed in 2725.08s\n",
      "Train Loss: 2.0527, Train Acc: 0.4514\n",
      "Val Loss: 0.9671, Val Acc: 0.7337\n",
      "--------------------------------------------------\n"
     ]
    },
    {
     "data": {
      "application/vnd.jupyter.widget-view+json": {
       "model_id": "fec468add6034fd68f1302f1103c37a4",
       "version_major": 2,
       "version_minor": 0
      },
      "text/plain": [
       "Epoch 2/3 [Train]:   0%|          | 0/790 [00:00<?, ?it/s]"
      ]
     },
     "metadata": {},
     "output_type": "display_data"
    },
    {
     "data": {
      "application/vnd.jupyter.widget-view+json": {
       "model_id": "91bf52a7e30f439cb17b366886af2a03",
       "version_major": 2,
       "version_minor": 0
      },
      "text/plain": [
       "Epoch 2/3 [Val]:   0%|          | 0/198 [00:00<?, ?it/s]"
      ]
     },
     "metadata": {},
     "output_type": "display_data"
    },
    {
     "name": "stdout",
     "output_type": "stream",
     "text": [
      "Epoch 2/3 completed in 3454.25s\n",
      "Train Loss: 1.1533, Train Acc: 0.6648\n",
      "Val Loss: 0.5507, Val Acc: 0.8330\n",
      "--------------------------------------------------\n"
     ]
    },
    {
     "data": {
      "application/vnd.jupyter.widget-view+json": {
       "model_id": "dbb2e45d28704d439e422dc326b006ca",
       "version_major": 2,
       "version_minor": 0
      },
      "text/plain": [
       "Epoch 3/3 [Train]:   0%|          | 0/790 [00:00<?, ?it/s]"
      ]
     },
     "metadata": {},
     "output_type": "display_data"
    },
    {
     "data": {
      "application/vnd.jupyter.widget-view+json": {
       "model_id": "9001b74265ad4ffbb40bc8817c39cd87",
       "version_major": 2,
       "version_minor": 0
      },
      "text/plain": [
       "Epoch 3/3 [Val]:   0%|          | 0/198 [00:00<?, ?it/s]"
      ]
     },
     "metadata": {},
     "output_type": "display_data"
    },
    {
     "name": "stdout",
     "output_type": "stream",
     "text": [
      "Epoch 3/3 completed in 1478.72s\n",
      "Train Loss: 0.8408, Train Acc: 0.7504\n",
      "Val Loss: 0.4227, Val Acc: 0.8691\n",
      "--------------------------------------------------\n",
      "Particle 2: {'batch_size': 55, 'learning_rate': 0.0001, 'dropout_rate': 0.32193929335574106, 'num_conv_layers': 4, 'num_dense_layers': 3}, Fitness: 0.8691\n"
     ]
    },
    {
     "data": {
      "application/vnd.jupyter.widget-view+json": {
       "model_id": "9c8a9b8dd2d9498b8e09af408eea96a8",
       "version_major": 2,
       "version_minor": 0
      },
      "text/plain": [
       "Epoch 1/3 [Train]:   0%|          | 0/790 [00:00<?, ?it/s]"
      ]
     },
     "metadata": {},
     "output_type": "display_data"
    },
    {
     "data": {
      "application/vnd.jupyter.widget-view+json": {
       "model_id": "dc560724d15e4b9ba76116e1b0c82e29",
       "version_major": 2,
       "version_minor": 0
      },
      "text/plain": [
       "Epoch 1/3 [Val]:   0%|          | 0/198 [00:00<?, ?it/s]"
      ]
     },
     "metadata": {},
     "output_type": "display_data"
    },
    {
     "name": "stdout",
     "output_type": "stream",
     "text": [
      "Epoch 1/3 completed in 928.20s\n",
      "Train Loss: 1.6165, Train Acc: 0.5550\n",
      "Val Loss: 0.6676, Val Acc: 0.8046\n",
      "--------------------------------------------------\n"
     ]
    },
    {
     "data": {
      "application/vnd.jupyter.widget-view+json": {
       "model_id": "78ef9240e7a640409d7ba3a4ffdd92df",
       "version_major": 2,
       "version_minor": 0
      },
      "text/plain": [
       "Epoch 2/3 [Train]:   0%|          | 0/790 [00:00<?, ?it/s]"
      ]
     },
     "metadata": {},
     "output_type": "display_data"
    },
    {
     "data": {
      "application/vnd.jupyter.widget-view+json": {
       "model_id": "50680a09a48b4a15a4c0d5c78896b883",
       "version_major": 2,
       "version_minor": 0
      },
      "text/plain": [
       "Epoch 2/3 [Val]:   0%|          | 0/198 [00:00<?, ?it/s]"
      ]
     },
     "metadata": {},
     "output_type": "display_data"
    },
    {
     "name": "stdout",
     "output_type": "stream",
     "text": [
      "Epoch 2/3 completed in 877.51s\n",
      "Train Loss: 0.8843, Train Acc: 0.7350\n",
      "Val Loss: 0.4178, Val Acc: 0.8701\n",
      "--------------------------------------------------\n"
     ]
    },
    {
     "data": {
      "application/vnd.jupyter.widget-view+json": {
       "model_id": "55cd6b47a5f84e7c8b715ed31b4c87af",
       "version_major": 2,
       "version_minor": 0
      },
      "text/plain": [
       "Epoch 3/3 [Train]:   0%|          | 0/790 [00:00<?, ?it/s]"
      ]
     },
     "metadata": {},
     "output_type": "display_data"
    },
    {
     "data": {
      "application/vnd.jupyter.widget-view+json": {
       "model_id": "d73899ef47f049c8a36580bbacb11a3e",
       "version_major": 2,
       "version_minor": 0
      },
      "text/plain": [
       "Epoch 3/3 [Val]:   0%|          | 0/198 [00:00<?, ?it/s]"
      ]
     },
     "metadata": {},
     "output_type": "display_data"
    },
    {
     "name": "stdout",
     "output_type": "stream",
     "text": [
      "Epoch 3/3 completed in 896.14s\n",
      "Train Loss: 0.6744, Train Acc: 0.7933\n",
      "Val Loss: 0.3079, Val Acc: 0.9053\n",
      "--------------------------------------------------\n",
      "Particle 3: {'batch_size': 55, 'learning_rate': 0.0001, 'dropout_rate': 0.34127040617803195, 'num_conv_layers': 4, 'num_dense_layers': 2}, Fitness: 0.9053\n"
     ]
    },
    {
     "data": {
      "application/vnd.jupyter.widget-view+json": {
       "model_id": "503ecf8b6d5f42eca91020f409ed5cd6",
       "version_major": 2,
       "version_minor": 0
      },
      "text/plain": [
       "Epoch 1/3 [Train]:   0%|          | 0/1087 [00:00<?, ?it/s]"
      ]
     },
     "metadata": {},
     "output_type": "display_data"
    },
    {
     "data": {
      "application/vnd.jupyter.widget-view+json": {
       "model_id": "f94ab7a70edc4e60a5c7d28ffce4b959",
       "version_major": 2,
       "version_minor": 0
      },
      "text/plain": [
       "Epoch 1/3 [Val]:   0%|          | 0/272 [00:00<?, ?it/s]"
      ]
     },
     "metadata": {},
     "output_type": "display_data"
    },
    {
     "name": "stdout",
     "output_type": "stream",
     "text": [
      "Epoch 1/3 completed in 581.54s\n",
      "Train Loss: 3.4125, Train Acc: 0.1380\n",
      "Val Loss: 3.1038, Val Acc: 0.1849\n",
      "--------------------------------------------------\n"
     ]
    },
    {
     "data": {
      "application/vnd.jupyter.widget-view+json": {
       "model_id": "4510afaed4084c8e93784bb2b9bcf2f4",
       "version_major": 2,
       "version_minor": 0
      },
      "text/plain": [
       "Epoch 2/3 [Train]:   0%|          | 0/1087 [00:00<?, ?it/s]"
      ]
     },
     "metadata": {},
     "output_type": "display_data"
    },
    {
     "data": {
      "application/vnd.jupyter.widget-view+json": {
       "model_id": "0ea044761e5f4551886d23d02585fb4c",
       "version_major": 2,
       "version_minor": 0
      },
      "text/plain": [
       "Epoch 2/3 [Val]:   0%|          | 0/272 [00:00<?, ?it/s]"
      ]
     },
     "metadata": {},
     "output_type": "display_data"
    },
    {
     "name": "stdout",
     "output_type": "stream",
     "text": [
      "Epoch 2/3 completed in 580.90s\n",
      "Train Loss: 3.3098, Train Acc: 0.1230\n",
      "Val Loss: 3.3464, Val Acc: 0.1015\n",
      "--------------------------------------------------\n"
     ]
    },
    {
     "data": {
      "application/vnd.jupyter.widget-view+json": {
       "model_id": "c5b379392bee4933ab2b4fd72557b8d1",
       "version_major": 2,
       "version_minor": 0
      },
      "text/plain": [
       "Epoch 3/3 [Train]:   0%|          | 0/1087 [00:00<?, ?it/s]"
      ]
     },
     "metadata": {},
     "output_type": "display_data"
    },
    {
     "data": {
      "application/vnd.jupyter.widget-view+json": {
       "model_id": "8c0529f82ae14fa4a69162fe538ae81b",
       "version_major": 2,
       "version_minor": 0
      },
      "text/plain": [
       "Epoch 3/3 [Val]:   0%|          | 0/272 [00:00<?, ?it/s]"
      ]
     },
     "metadata": {},
     "output_type": "display_data"
    },
    {
     "name": "stdout",
     "output_type": "stream",
     "text": [
      "Epoch 3/3 completed in 587.97s\n",
      "Train Loss: 3.3471, Train Acc: 0.1005\n",
      "Val Loss: 3.3459, Val Acc: 0.0986\n",
      "--------------------------------------------------\n",
      "Particle 4: {'batch_size': 40, 'learning_rate': 0.01, 'dropout_rate': 0.29857915412627745, 'num_conv_layers': 5, 'num_dense_layers': 3}, Fitness: 0.1849\n"
     ]
    },
    {
     "data": {
      "application/vnd.jupyter.widget-view+json": {
       "model_id": "0bff172a8e9943faa0ee57f12b03278e",
       "version_major": 2,
       "version_minor": 0
      },
      "text/plain": [
       "Epoch 1/3 [Train]:   0%|          | 0/869 [00:00<?, ?it/s]"
      ]
     },
     "metadata": {},
     "output_type": "display_data"
    },
    {
     "data": {
      "application/vnd.jupyter.widget-view+json": {
       "model_id": "9026230de1ac495ea64e78a93400c5d6",
       "version_major": 2,
       "version_minor": 0
      },
      "text/plain": [
       "Epoch 1/3 [Val]:   0%|          | 0/218 [00:00<?, ?it/s]"
      ]
     },
     "metadata": {},
     "output_type": "display_data"
    },
    {
     "name": "stdout",
     "output_type": "stream",
     "text": [
      "Epoch 1/3 completed in 689.36s\n",
      "Train Loss: 2.2651, Train Acc: 0.4006\n",
      "Val Loss: 1.2130, Val Acc: 0.6559\n",
      "--------------------------------------------------\n"
     ]
    },
    {
     "data": {
      "application/vnd.jupyter.widget-view+json": {
       "model_id": "eddc04288ea045b7b2302407f54734a7",
       "version_major": 2,
       "version_minor": 0
      },
      "text/plain": [
       "Epoch 2/3 [Train]:   0%|          | 0/869 [00:00<?, ?it/s]"
      ]
     },
     "metadata": {},
     "output_type": "display_data"
    },
    {
     "data": {
      "application/vnd.jupyter.widget-view+json": {
       "model_id": "294f0537554b463a87141d6b58119712",
       "version_major": 2,
       "version_minor": 0
      },
      "text/plain": [
       "Epoch 2/3 [Val]:   0%|          | 0/218 [00:00<?, ?it/s]"
      ]
     },
     "metadata": {},
     "output_type": "display_data"
    },
    {
     "name": "stdout",
     "output_type": "stream",
     "text": [
      "Epoch 2/3 completed in 649.20s\n",
      "Train Loss: 1.3156, Train Acc: 0.6252\n",
      "Val Loss: 0.6859, Val Acc: 0.7915\n",
      "--------------------------------------------------\n"
     ]
    },
    {
     "data": {
      "application/vnd.jupyter.widget-view+json": {
       "model_id": "4d45cf45e07e4d42ae1f6a91188efb1d",
       "version_major": 2,
       "version_minor": 0
      },
      "text/plain": [
       "Epoch 3/3 [Train]:   0%|          | 0/869 [00:00<?, ?it/s]"
      ]
     },
     "metadata": {},
     "output_type": "display_data"
    },
    {
     "data": {
      "application/vnd.jupyter.widget-view+json": {
       "model_id": "9507615f0d684adba6013d8f4a989f9e",
       "version_major": 2,
       "version_minor": 0
      },
      "text/plain": [
       "Epoch 3/3 [Val]:   0%|          | 0/218 [00:00<?, ?it/s]"
      ]
     },
     "metadata": {},
     "output_type": "display_data"
    },
    {
     "name": "stdout",
     "output_type": "stream",
     "text": [
      "Epoch 3/3 completed in 689.60s\n",
      "Train Loss: 0.9421, Train Acc: 0.7204\n",
      "Val Loss: 0.4451, Val Acc: 0.8668\n",
      "--------------------------------------------------\n",
      "Particle 5: {'batch_size': 50, 'learning_rate': 0.0001, 'dropout_rate': 0.40961663889145306, 'num_conv_layers': 5, 'num_dense_layers': 3}, Fitness: 0.8668\n",
      "Global best: {'batch_size': 56, 'learning_rate': 0.0001, 'dropout_rate': 0.3352524904908126, 'num_conv_layers': 5, 'num_dense_layers': 2}, Fitness: 0.9335\n",
      "--------------------------------------------------\n",
      "PSO Iteration 3/5\n"
     ]
    },
    {
     "data": {
      "application/vnd.jupyter.widget-view+json": {
       "model_id": "22921cf70d3d452b91fb97bbb7fa0e53",
       "version_major": 2,
       "version_minor": 0
      },
      "text/plain": [
       "Epoch 1/3 [Train]:   0%|          | 0/776 [00:00<?, ?it/s]"
      ]
     },
     "metadata": {},
     "output_type": "display_data"
    },
    {
     "data": {
      "application/vnd.jupyter.widget-view+json": {
       "model_id": "30c3508740434cc5a8e094ec18849d4b",
       "version_major": 2,
       "version_minor": 0
      },
      "text/plain": [
       "Epoch 1/3 [Val]:   0%|          | 0/194 [00:00<?, ?it/s]"
      ]
     },
     "metadata": {},
     "output_type": "display_data"
    },
    {
     "name": "stdout",
     "output_type": "stream",
     "text": [
      "Epoch 1/3 completed in 938.55s\n",
      "Train Loss: 1.4960, Train Acc: 0.5832\n",
      "Val Loss: 0.5450, Val Acc: 0.8426\n",
      "--------------------------------------------------\n"
     ]
    },
    {
     "data": {
      "application/vnd.jupyter.widget-view+json": {
       "model_id": "0df8acf25d134149ba83979d602d63a6",
       "version_major": 2,
       "version_minor": 0
      },
      "text/plain": [
       "Epoch 2/3 [Train]:   0%|          | 0/776 [00:00<?, ?it/s]"
      ]
     },
     "metadata": {},
     "output_type": "display_data"
    },
    {
     "data": {
      "application/vnd.jupyter.widget-view+json": {
       "model_id": "722f1f9e88eb46c5998a25abe2e807fc",
       "version_major": 2,
       "version_minor": 0
      },
      "text/plain": [
       "Epoch 2/3 [Val]:   0%|          | 0/194 [00:00<?, ?it/s]"
      ]
     },
     "metadata": {},
     "output_type": "display_data"
    },
    {
     "name": "stdout",
     "output_type": "stream",
     "text": [
      "Epoch 2/3 completed in 946.87s\n",
      "Train Loss: 0.7009, Train Acc: 0.7846\n",
      "Val Loss: 0.3214, Val Acc: 0.9001\n",
      "--------------------------------------------------\n"
     ]
    },
    {
     "data": {
      "application/vnd.jupyter.widget-view+json": {
       "model_id": "2dac19b645b24746af46bae7a3101f31",
       "version_major": 2,
       "version_minor": 0
      },
      "text/plain": [
       "Epoch 3/3 [Train]:   0%|          | 0/776 [00:00<?, ?it/s]"
      ]
     },
     "metadata": {},
     "output_type": "display_data"
    },
    {
     "data": {
      "application/vnd.jupyter.widget-view+json": {
       "model_id": "0a92efcbb4a84e8baa9cd8c9bec4c449",
       "version_major": 2,
       "version_minor": 0
      },
      "text/plain": [
       "Epoch 3/3 [Val]:   0%|          | 0/194 [00:00<?, ?it/s]"
      ]
     },
     "metadata": {},
     "output_type": "display_data"
    },
    {
     "name": "stdout",
     "output_type": "stream",
     "text": [
      "Epoch 3/3 completed in 1036.09s\n",
      "Train Loss: 0.4725, Train Acc: 0.8525\n",
      "Val Loss: 0.2172, Val Acc: 0.9325\n",
      "--------------------------------------------------\n",
      "Particle 1: {'batch_size': 56, 'learning_rate': 0.0001, 'dropout_rate': 0.34707605119901325, 'num_conv_layers': 5, 'num_dense_layers': 2}, Fitness: 0.9325\n"
     ]
    },
    {
     "data": {
      "application/vnd.jupyter.widget-view+json": {
       "model_id": "68b0c369d74144268b84c0781ec79d90",
       "version_major": 2,
       "version_minor": 0
      },
      "text/plain": [
       "Epoch 1/3 [Train]:   0%|          | 0/776 [00:00<?, ?it/s]"
      ]
     },
     "metadata": {},
     "output_type": "display_data"
    },
    {
     "data": {
      "application/vnd.jupyter.widget-view+json": {
       "model_id": "e69295ac114b462a93d85a629d68cc72",
       "version_major": 2,
       "version_minor": 0
      },
      "text/plain": [
       "Epoch 1/3 [Val]:   0%|          | 0/194 [00:00<?, ?it/s]"
      ]
     },
     "metadata": {},
     "output_type": "display_data"
    },
    {
     "name": "stdout",
     "output_type": "stream",
     "text": [
      "Epoch 1/3 completed in 914.28s\n",
      "Train Loss: 2.0613, Train Acc: 0.4512\n",
      "Val Loss: 0.9805, Val Acc: 0.7213\n",
      "--------------------------------------------------\n"
     ]
    },
    {
     "data": {
      "application/vnd.jupyter.widget-view+json": {
       "model_id": "024bccc28a184365a3769b18598802a1",
       "version_major": 2,
       "version_minor": 0
      },
      "text/plain": [
       "Epoch 2/3 [Train]:   0%|          | 0/776 [00:00<?, ?it/s]"
      ]
     },
     "metadata": {},
     "output_type": "display_data"
    },
    {
     "data": {
      "application/vnd.jupyter.widget-view+json": {
       "model_id": "43b3ad4deca04115889efc1d450b5c4e",
       "version_major": 2,
       "version_minor": 0
      },
      "text/plain": [
       "Epoch 2/3 [Val]:   0%|          | 0/194 [00:00<?, ?it/s]"
      ]
     },
     "metadata": {},
     "output_type": "display_data"
    },
    {
     "name": "stdout",
     "output_type": "stream",
     "text": [
      "Epoch 2/3 completed in 932.71s\n",
      "Train Loss: 1.1584, Train Acc: 0.6657\n",
      "Val Loss: 0.5994, Val Acc: 0.8207\n",
      "--------------------------------------------------\n"
     ]
    },
    {
     "data": {
      "application/vnd.jupyter.widget-view+json": {
       "model_id": "c42699e5f3134127ab01441f7c55633a",
       "version_major": 2,
       "version_minor": 0
      },
      "text/plain": [
       "Epoch 3/3 [Train]:   0%|          | 0/776 [00:00<?, ?it/s]"
      ]
     },
     "metadata": {},
     "output_type": "display_data"
    },
    {
     "data": {
      "application/vnd.jupyter.widget-view+json": {
       "model_id": "8158b2e824bc479ebade6def4e3b7e29",
       "version_major": 2,
       "version_minor": 0
      },
      "text/plain": [
       "Epoch 3/3 [Val]:   0%|          | 0/194 [00:00<?, ?it/s]"
      ]
     },
     "metadata": {},
     "output_type": "display_data"
    },
    {
     "name": "stdout",
     "output_type": "stream",
     "text": [
      "Epoch 3/3 completed in 1020.47s\n",
      "Train Loss: 0.8574, Train Acc: 0.7474\n",
      "Val Loss: 0.4501, Val Acc: 0.8599\n",
      "--------------------------------------------------\n",
      "Particle 2: {'batch_size': 56, 'learning_rate': 0.0001, 'dropout_rate': 0.33007216121758837, 'num_conv_layers': 4, 'num_dense_layers': 3}, Fitness: 0.8599\n"
     ]
    },
    {
     "data": {
      "application/vnd.jupyter.widget-view+json": {
       "model_id": "8ba979cfb0ec42e997d5d1aa1de3b586",
       "version_major": 2,
       "version_minor": 0
      },
      "text/plain": [
       "Epoch 1/3 [Train]:   0%|          | 0/805 [00:00<?, ?it/s]"
      ]
     },
     "metadata": {},
     "output_type": "display_data"
    },
    {
     "data": {
      "application/vnd.jupyter.widget-view+json": {
       "model_id": "51a589b3a9d04fb6b86878d0cbb74f0c",
       "version_major": 2,
       "version_minor": 0
      },
      "text/plain": [
       "Epoch 1/3 [Val]:   0%|          | 0/202 [00:00<?, ?it/s]"
      ]
     },
     "metadata": {},
     "output_type": "display_data"
    },
    {
     "name": "stdout",
     "output_type": "stream",
     "text": [
      "Epoch 1/3 completed in 778.18s\n",
      "Train Loss: 1.5430, Train Acc: 0.5718\n",
      "Val Loss: 0.6307, Val Acc: 0.8055\n",
      "--------------------------------------------------\n"
     ]
    },
    {
     "data": {
      "application/vnd.jupyter.widget-view+json": {
       "model_id": "a07c7cf45088492fa6c00c7e401cf739",
       "version_major": 2,
       "version_minor": 0
      },
      "text/plain": [
       "Epoch 2/3 [Train]:   0%|          | 0/805 [00:00<?, ?it/s]"
      ]
     },
     "metadata": {},
     "output_type": "display_data"
    },
    {
     "data": {
      "application/vnd.jupyter.widget-view+json": {
       "model_id": "0ac126e9826441f2b47d939f5154ae70",
       "version_major": 2,
       "version_minor": 0
      },
      "text/plain": [
       "Epoch 2/3 [Val]:   0%|          | 0/202 [00:00<?, ?it/s]"
      ]
     },
     "metadata": {},
     "output_type": "display_data"
    },
    {
     "name": "stdout",
     "output_type": "stream",
     "text": [
      "Epoch 2/3 completed in 755.67s\n",
      "Train Loss: 0.7086, Train Acc: 0.7828\n",
      "Val Loss: 0.3148, Val Acc: 0.9071\n",
      "--------------------------------------------------\n"
     ]
    },
    {
     "data": {
      "application/vnd.jupyter.widget-view+json": {
       "model_id": "59d11102f86f4f97b1150ea4735fe965",
       "version_major": 2,
       "version_minor": 0
      },
      "text/plain": [
       "Epoch 3/3 [Train]:   0%|          | 0/805 [00:00<?, ?it/s]"
      ]
     },
     "metadata": {},
     "output_type": "display_data"
    },
    {
     "data": {
      "application/vnd.jupyter.widget-view+json": {
       "model_id": "dbdf2a11cc244832bb67ea9c2df44c3e",
       "version_major": 2,
       "version_minor": 0
      },
      "text/plain": [
       "Epoch 3/3 [Val]:   0%|          | 0/202 [00:00<?, ?it/s]"
      ]
     },
     "metadata": {},
     "output_type": "display_data"
    },
    {
     "name": "stdout",
     "output_type": "stream",
     "text": [
      "Epoch 3/3 completed in 752.63s\n",
      "Train Loss: 0.4801, Train Acc: 0.8502\n",
      "Val Loss: 0.2085, Val Acc: 0.9321\n",
      "--------------------------------------------------\n",
      "Particle 3: {'batch_size': 54, 'learning_rate': 0.0001, 'dropout_rate': 0.33411975612290284, 'num_conv_layers': 5, 'num_dense_layers': 2}, Fitness: 0.9321\n"
     ]
    },
    {
     "data": {
      "application/vnd.jupyter.widget-view+json": {
       "model_id": "9385d0c79e1d420d97dd6d9dd591afa4",
       "version_major": 2,
       "version_minor": 0
      },
      "text/plain": [
       "Epoch 1/3 [Train]:   0%|          | 0/725 [00:00<?, ?it/s]"
      ]
     },
     "metadata": {},
     "output_type": "display_data"
    },
    {
     "data": {
      "application/vnd.jupyter.widget-view+json": {
       "model_id": "5e48e0d7493b4cbbb08389d183bb0ffe",
       "version_major": 2,
       "version_minor": 0
      },
      "text/plain": [
       "Epoch 1/3 [Val]:   0%|          | 0/182 [00:00<?, ?it/s]"
      ]
     },
     "metadata": {},
     "output_type": "display_data"
    },
    {
     "name": "stdout",
     "output_type": "stream",
     "text": [
      "Epoch 1/3 completed in 1389.58s\n",
      "Train Loss: 3.2380, Train Acc: 0.2044\n",
      "Val Loss: 2.5372, Val Acc: 0.2478\n",
      "--------------------------------------------------\n"
     ]
    },
    {
     "data": {
      "application/vnd.jupyter.widget-view+json": {
       "model_id": "a690339a9d1f4c1e99a7d0fcab272ead",
       "version_major": 2,
       "version_minor": 0
      },
      "text/plain": [
       "Epoch 2/3 [Train]:   0%|          | 0/725 [00:00<?, ?it/s]"
      ]
     },
     "metadata": {},
     "output_type": "display_data"
    },
    {
     "data": {
      "application/vnd.jupyter.widget-view+json": {
       "model_id": "129178e7fef849c49fdc41e2e3b5990e",
       "version_major": 2,
       "version_minor": 0
      },
      "text/plain": [
       "Epoch 2/3 [Val]:   0%|          | 0/182 [00:00<?, ?it/s]"
      ]
     },
     "metadata": {},
     "output_type": "display_data"
    },
    {
     "name": "stdout",
     "output_type": "stream",
     "text": [
      "Epoch 2/3 completed in 1269.78s\n",
      "Train Loss: 2.8310, Train Acc: 0.2204\n",
      "Val Loss: 2.4912, Val Acc: 0.2742\n",
      "--------------------------------------------------\n"
     ]
    },
    {
     "data": {
      "application/vnd.jupyter.widget-view+json": {
       "model_id": "fe7cf74725b9482b997138b415e908f4",
       "version_major": 2,
       "version_minor": 0
      },
      "text/plain": [
       "Epoch 3/3 [Train]:   0%|          | 0/725 [00:00<?, ?it/s]"
      ]
     },
     "metadata": {},
     "output_type": "display_data"
    },
    {
     "data": {
      "application/vnd.jupyter.widget-view+json": {
       "model_id": "0ce4eb5ec8254c87bd4840ba646a514b",
       "version_major": 2,
       "version_minor": 0
      },
      "text/plain": [
       "Epoch 3/3 [Val]:   0%|          | 0/182 [00:00<?, ?it/s]"
      ]
     },
     "metadata": {},
     "output_type": "display_data"
    },
    {
     "name": "stdout",
     "output_type": "stream",
     "text": [
      "Epoch 3/3 completed in 1253.09s\n",
      "Train Loss: 2.6764, Train Acc: 0.2398\n",
      "Val Loss: 2.3029, Val Acc: 0.3358\n",
      "--------------------------------------------------\n",
      "Particle 4: {'batch_size': 60, 'learning_rate': 0.004088632904990842, 'dropout_rate': 0.28458059409519376, 'num_conv_layers': 5, 'num_dense_layers': 2}, Fitness: 0.3358\n"
     ]
    },
    {
     "data": {
      "application/vnd.jupyter.widget-view+json": {
       "model_id": "a2ab2df83b134636ac31a37f710d6050",
       "version_major": 2,
       "version_minor": 0
      },
      "text/plain": [
       "Epoch 1/3 [Train]:   0%|          | 0/679 [00:00<?, ?it/s]"
      ]
     },
     "metadata": {},
     "output_type": "display_data"
    },
    {
     "data": {
      "application/vnd.jupyter.widget-view+json": {
       "model_id": "8587097ef9d44d879acf921ad895d914",
       "version_major": 2,
       "version_minor": 0
      },
      "text/plain": [
       "Epoch 1/3 [Val]:   0%|          | 0/170 [00:00<?, ?it/s]"
      ]
     },
     "metadata": {},
     "output_type": "display_data"
    },
    {
     "name": "stdout",
     "output_type": "stream",
     "text": [
      "Epoch 1/3 completed in 1431.49s\n",
      "Train Loss: 1.4125, Train Acc: 0.6095\n",
      "Val Loss: 0.5672, Val Acc: 0.8252\n",
      "--------------------------------------------------\n"
     ]
    },
    {
     "data": {
      "application/vnd.jupyter.widget-view+json": {
       "model_id": "98eaa8c613524ab39fae0c1fd3b7a02e",
       "version_major": 2,
       "version_minor": 0
      },
      "text/plain": [
       "Epoch 2/3 [Train]:   0%|          | 0/679 [00:00<?, ?it/s]"
      ]
     },
     "metadata": {},
     "output_type": "display_data"
    },
    {
     "data": {
      "application/vnd.jupyter.widget-view+json": {
       "model_id": "ce77bc23820e41bab11fe0e526af8204",
       "version_major": 2,
       "version_minor": 0
      },
      "text/plain": [
       "Epoch 2/3 [Val]:   0%|          | 0/170 [00:00<?, ?it/s]"
      ]
     },
     "metadata": {},
     "output_type": "display_data"
    },
    {
     "name": "stdout",
     "output_type": "stream",
     "text": [
      "Epoch 2/3 completed in 1295.43s\n",
      "Train Loss: 0.6378, Train Acc: 0.8034\n",
      "Val Loss: 0.2954, Val Acc: 0.9089\n",
      "--------------------------------------------------\n"
     ]
    },
    {
     "data": {
      "application/vnd.jupyter.widget-view+json": {
       "model_id": "449aac5d973a4600bf132c0a5aaf4339",
       "version_major": 2,
       "version_minor": 0
      },
      "text/plain": [
       "Epoch 3/3 [Train]:   0%|          | 0/679 [00:00<?, ?it/s]"
      ]
     },
     "metadata": {},
     "output_type": "display_data"
    },
    {
     "data": {
      "application/vnd.jupyter.widget-view+json": {
       "model_id": "3150419d1bd4467ab0c99ee86875cb12",
       "version_major": 2,
       "version_minor": 0
      },
      "text/plain": [
       "Epoch 3/3 [Val]:   0%|          | 0/170 [00:00<?, ?it/s]"
      ]
     },
     "metadata": {},
     "output_type": "display_data"
    },
    {
     "name": "stdout",
     "output_type": "stream",
     "text": [
      "Epoch 3/3 completed in 1286.91s\n",
      "Train Loss: 0.4224, Train Acc: 0.8680\n",
      "Val Loss: 0.2144, Val Acc: 0.9309\n",
      "--------------------------------------------------\n",
      "Particle 5: {'batch_size': 64, 'learning_rate': 0.0001, 'dropout_rate': 0.2742967962992353, 'num_conv_layers': 5, 'num_dense_layers': 2}, Fitness: 0.9309\n",
      "Global best: {'batch_size': 56, 'learning_rate': 0.0001, 'dropout_rate': 0.3352524904908126, 'num_conv_layers': 5, 'num_dense_layers': 2}, Fitness: 0.9335\n",
      "--------------------------------------------------\n",
      "PSO Iteration 4/5\n"
     ]
    },
    {
     "data": {
      "application/vnd.jupyter.widget-view+json": {
       "model_id": "a38d400e281b4466b67ac8a6611bbc85",
       "version_major": 2,
       "version_minor": 0
      },
      "text/plain": [
       "Epoch 1/3 [Train]:   0%|          | 0/776 [00:00<?, ?it/s]"
      ]
     },
     "metadata": {},
     "output_type": "display_data"
    },
    {
     "data": {
      "application/vnd.jupyter.widget-view+json": {
       "model_id": "1ba9acb1a4154476bda4bb074f5c2ce6",
       "version_major": 2,
       "version_minor": 0
      },
      "text/plain": [
       "Epoch 1/3 [Val]:   0%|          | 0/194 [00:00<?, ?it/s]"
      ]
     },
     "metadata": {},
     "output_type": "display_data"
    },
    {
     "name": "stdout",
     "output_type": "stream",
     "text": [
      "Epoch 1/3 completed in 830.42s\n",
      "Train Loss: 1.5297, Train Acc: 0.5735\n",
      "Val Loss: 0.6353, Val Acc: 0.8124\n",
      "--------------------------------------------------\n"
     ]
    },
    {
     "data": {
      "application/vnd.jupyter.widget-view+json": {
       "model_id": "7c515e9a3a214aa0a10ad69bf38e5a7a",
       "version_major": 2,
       "version_minor": 0
      },
      "text/plain": [
       "Epoch 2/3 [Train]:   0%|          | 0/776 [00:00<?, ?it/s]"
      ]
     },
     "metadata": {},
     "output_type": "display_data"
    },
    {
     "data": {
      "application/vnd.jupyter.widget-view+json": {
       "model_id": "75f3012ca9044504b13352dcfecbfcd5",
       "version_major": 2,
       "version_minor": 0
      },
      "text/plain": [
       "Epoch 2/3 [Val]:   0%|          | 0/194 [00:00<?, ?it/s]"
      ]
     },
     "metadata": {},
     "output_type": "display_data"
    },
    {
     "name": "stdout",
     "output_type": "stream",
     "text": [
      "Epoch 2/3 completed in 793.19s\n",
      "Train Loss: 0.7339, Train Acc: 0.7757\n",
      "Val Loss: 0.3097, Val Acc: 0.9060\n",
      "--------------------------------------------------\n"
     ]
    },
    {
     "data": {
      "application/vnd.jupyter.widget-view+json": {
       "model_id": "131396800e4d4cd48f7a1827bd23a495",
       "version_major": 2,
       "version_minor": 0
      },
      "text/plain": [
       "Epoch 3/3 [Train]:   0%|          | 0/776 [00:00<?, ?it/s]"
      ]
     },
     "metadata": {},
     "output_type": "display_data"
    },
    {
     "data": {
      "application/vnd.jupyter.widget-view+json": {
       "model_id": "ed2cd7d7a7154634953ef0ce2ff8c864",
       "version_major": 2,
       "version_minor": 0
      },
      "text/plain": [
       "Epoch 3/3 [Val]:   0%|          | 0/194 [00:00<?, ?it/s]"
      ]
     },
     "metadata": {},
     "output_type": "display_data"
    },
    {
     "name": "stdout",
     "output_type": "stream",
     "text": [
      "Epoch 3/3 completed in 833.20s\n",
      "Train Loss: 0.5018, Train Acc: 0.8424\n",
      "Val Loss: 0.2022, Val Acc: 0.9342\n",
      "--------------------------------------------------\n",
      "Particle 1: {'batch_size': 56, 'learning_rate': 0.0001, 'dropout_rate': 0.3300104383295839, 'num_conv_layers': 5, 'num_dense_layers': 2}, Fitness: 0.9342\n"
     ]
    },
    {
     "data": {
      "application/vnd.jupyter.widget-view+json": {
       "model_id": "1f7d882522044d0f98d2246fbe56a7ff",
       "version_major": 2,
       "version_minor": 0
      },
      "text/plain": [
       "Epoch 1/3 [Train]:   0%|          | 0/776 [00:00<?, ?it/s]"
      ]
     },
     "metadata": {},
     "output_type": "display_data"
    },
    {
     "data": {
      "application/vnd.jupyter.widget-view+json": {
       "model_id": "36f8d65b735c4294b1e7f7d475de7f4e",
       "version_major": 2,
       "version_minor": 0
      },
      "text/plain": [
       "Epoch 1/3 [Val]:   0%|          | 0/194 [00:00<?, ?it/s]"
      ]
     },
     "metadata": {},
     "output_type": "display_data"
    },
    {
     "name": "stdout",
     "output_type": "stream",
     "text": [
      "Epoch 1/3 completed in 875.01s\n",
      "Train Loss: 1.5968, Train Acc: 0.5577\n",
      "Val Loss: 0.6252, Val Acc: 0.8149\n",
      "--------------------------------------------------\n"
     ]
    },
    {
     "data": {
      "application/vnd.jupyter.widget-view+json": {
       "model_id": "68b0bfa973a843cf84525e7fd14ba291",
       "version_major": 2,
       "version_minor": 0
      },
      "text/plain": [
       "Epoch 2/3 [Train]:   0%|          | 0/776 [00:00<?, ?it/s]"
      ]
     },
     "metadata": {},
     "output_type": "display_data"
    },
    {
     "data": {
      "application/vnd.jupyter.widget-view+json": {
       "model_id": "457ade71a4b84f90a8e4473005e61fdb",
       "version_major": 2,
       "version_minor": 0
      },
      "text/plain": [
       "Epoch 2/3 [Val]:   0%|          | 0/194 [00:00<?, ?it/s]"
      ]
     },
     "metadata": {},
     "output_type": "display_data"
    },
    {
     "name": "stdout",
     "output_type": "stream",
     "text": [
      "Epoch 2/3 completed in 808.54s\n",
      "Train Loss: 0.8501, Train Acc: 0.7441\n",
      "Val Loss: 0.3877, Val Acc: 0.8803\n",
      "--------------------------------------------------\n"
     ]
    },
    {
     "data": {
      "application/vnd.jupyter.widget-view+json": {
       "model_id": "c092c6794f97485ba7e7a13ed7c2b8b7",
       "version_major": 2,
       "version_minor": 0
      },
      "text/plain": [
       "Epoch 3/3 [Train]:   0%|          | 0/776 [00:00<?, ?it/s]"
      ]
     },
     "metadata": {},
     "output_type": "display_data"
    },
    {
     "data": {
      "application/vnd.jupyter.widget-view+json": {
       "model_id": "94740f4864634b9aa79ba34c5ad622e8",
       "version_major": 2,
       "version_minor": 0
      },
      "text/plain": [
       "Epoch 3/3 [Val]:   0%|          | 0/194 [00:00<?, ?it/s]"
      ]
     },
     "metadata": {},
     "output_type": "display_data"
    },
    {
     "name": "stdout",
     "output_type": "stream",
     "text": [
      "Epoch 3/3 completed in 883.96s\n",
      "Train Loss: 0.6290, Train Acc: 0.8052\n",
      "Val Loss: 0.3388, Val Acc: 0.8931\n",
      "--------------------------------------------------\n",
      "Particle 2: {'batch_size': 56, 'learning_rate': 0.0001, 'dropout_rate': 0.3287647936301306, 'num_conv_layers': 4, 'num_dense_layers': 2}, Fitness: 0.8931\n"
     ]
    },
    {
     "data": {
      "application/vnd.jupyter.widget-view+json": {
       "model_id": "d85acb708a164b9d8e759fc71e18caa0",
       "version_major": 2,
       "version_minor": 0
      },
      "text/plain": [
       "Epoch 1/3 [Train]:   0%|          | 0/805 [00:00<?, ?it/s]"
      ]
     },
     "metadata": {},
     "output_type": "display_data"
    },
    {
     "data": {
      "application/vnd.jupyter.widget-view+json": {
       "model_id": "f450b8dc82d946fbaf42c5308ec5d934",
       "version_major": 2,
       "version_minor": 0
      },
      "text/plain": [
       "Epoch 1/3 [Val]:   0%|          | 0/202 [00:00<?, ?it/s]"
      ]
     },
     "metadata": {},
     "output_type": "display_data"
    },
    {
     "name": "stdout",
     "output_type": "stream",
     "text": [
      "Epoch 1/3 completed in 813.63s\n",
      "Train Loss: 1.4953, Train Acc: 0.5820\n",
      "Val Loss: 0.5662, Val Acc: 0.8296\n",
      "--------------------------------------------------\n"
     ]
    },
    {
     "data": {
      "application/vnd.jupyter.widget-view+json": {
       "model_id": "f335087ec29145f2877b1524788a7b52",
       "version_major": 2,
       "version_minor": 0
      },
      "text/plain": [
       "Epoch 2/3 [Train]:   0%|          | 0/805 [00:00<?, ?it/s]"
      ]
     },
     "metadata": {},
     "output_type": "display_data"
    },
    {
     "data": {
      "application/vnd.jupyter.widget-view+json": {
       "model_id": "47cd9f0f708d49349d39cc0d1371759b",
       "version_major": 2,
       "version_minor": 0
      },
      "text/plain": [
       "Epoch 2/3 [Val]:   0%|          | 0/202 [00:00<?, ?it/s]"
      ]
     },
     "metadata": {},
     "output_type": "display_data"
    },
    {
     "name": "stdout",
     "output_type": "stream",
     "text": [
      "Epoch 2/3 completed in 796.14s\n",
      "Train Loss: 0.7294, Train Acc: 0.7755\n",
      "Val Loss: 0.3699, Val Acc: 0.8843\n",
      "--------------------------------------------------\n"
     ]
    },
    {
     "data": {
      "application/vnd.jupyter.widget-view+json": {
       "model_id": "8fd28ae6b98b4ac4a45f8d5d5e8bfae8",
       "version_major": 2,
       "version_minor": 0
      },
      "text/plain": [
       "Epoch 3/3 [Train]:   0%|          | 0/805 [00:00<?, ?it/s]"
      ]
     },
     "metadata": {},
     "output_type": "display_data"
    },
    {
     "data": {
      "application/vnd.jupyter.widget-view+json": {
       "model_id": "5a89da865d2a41328c2abb066e5e2d34",
       "version_major": 2,
       "version_minor": 0
      },
      "text/plain": [
       "Epoch 3/3 [Val]:   0%|          | 0/202 [00:00<?, ?it/s]"
      ]
     },
     "metadata": {},
     "output_type": "display_data"
    },
    {
     "name": "stdout",
     "output_type": "stream",
     "text": [
      "Epoch 3/3 completed in 841.07s\n",
      "Train Loss: 0.5126, Train Acc: 0.8390\n",
      "Val Loss: 0.2373, Val Acc: 0.9262\n",
      "--------------------------------------------------\n",
      "Particle 3: {'batch_size': 54, 'learning_rate': 0.0001, 'dropout_rate': 0.33200503893794725, 'num_conv_layers': 5, 'num_dense_layers': 2}, Fitness: 0.9262\n"
     ]
    },
    {
     "data": {
      "application/vnd.jupyter.widget-view+json": {
       "model_id": "7c0e984b35c84bc8b596a290fef94562",
       "version_major": 2,
       "version_minor": 0
      },
      "text/plain": [
       "Epoch 1/3 [Train]:   0%|          | 0/737 [00:00<?, ?it/s]"
      ]
     },
     "metadata": {},
     "output_type": "display_data"
    },
    {
     "data": {
      "application/vnd.jupyter.widget-view+json": {
       "model_id": "efce643fc7d240c79b7292b329ab06c2",
       "version_major": 2,
       "version_minor": 0
      },
      "text/plain": [
       "Epoch 1/3 [Val]:   0%|          | 0/185 [00:00<?, ?it/s]"
      ]
     },
     "metadata": {},
     "output_type": "display_data"
    },
    {
     "name": "stdout",
     "output_type": "stream",
     "text": [
      "Epoch 1/3 completed in 1402.51s\n",
      "Train Loss: 1.4132, Train Acc: 0.6046\n",
      "Val Loss: 0.5155, Val Acc: 0.8444\n",
      "--------------------------------------------------\n"
     ]
    },
    {
     "data": {
      "application/vnd.jupyter.widget-view+json": {
       "model_id": "0e796a2d7c8245cebe1c32f5170816da",
       "version_major": 2,
       "version_minor": 0
      },
      "text/plain": [
       "Epoch 2/3 [Train]:   0%|          | 0/737 [00:00<?, ?it/s]"
      ]
     },
     "metadata": {},
     "output_type": "display_data"
    },
    {
     "data": {
      "application/vnd.jupyter.widget-view+json": {
       "model_id": "34c8462418d94e008a4dc5104ae22d93",
       "version_major": 2,
       "version_minor": 0
      },
      "text/plain": [
       "Epoch 2/3 [Val]:   0%|          | 0/185 [00:00<?, ?it/s]"
      ]
     },
     "metadata": {},
     "output_type": "display_data"
    },
    {
     "name": "stdout",
     "output_type": "stream",
     "text": [
      "Epoch 2/3 completed in 1797.27s\n",
      "Train Loss: 0.6558, Train Acc: 0.7976\n",
      "Val Loss: 0.3028, Val Acc: 0.9048\n",
      "--------------------------------------------------\n"
     ]
    },
    {
     "data": {
      "application/vnd.jupyter.widget-view+json": {
       "model_id": "0ea0f251d33241e9b5f5048bf8bb90c2",
       "version_major": 2,
       "version_minor": 0
      },
      "text/plain": [
       "Epoch 3/3 [Train]:   0%|          | 0/737 [00:00<?, ?it/s]"
      ]
     },
     "metadata": {},
     "output_type": "display_data"
    },
    {
     "data": {
      "application/vnd.jupyter.widget-view+json": {
       "model_id": "cd29ddefc5414826afb80be83ed444d4",
       "version_major": 2,
       "version_minor": 0
      },
      "text/plain": [
       "Epoch 3/3 [Val]:   0%|          | 0/185 [00:00<?, ?it/s]"
      ]
     },
     "metadata": {},
     "output_type": "display_data"
    },
    {
     "name": "stdout",
     "output_type": "stream",
     "text": [
      "Epoch 3/3 completed in 1619.87s\n",
      "Train Loss: 0.4471, Train Acc: 0.8589\n",
      "Val Loss: 0.2072, Val Acc: 0.9309\n",
      "--------------------------------------------------\n",
      "Particle 4: {'batch_size': 59, 'learning_rate': 0.0001, 'dropout_rate': 0.2995591810675494, 'num_conv_layers': 5, 'num_dense_layers': 2}, Fitness: 0.9309\n"
     ]
    },
    {
     "data": {
      "application/vnd.jupyter.widget-view+json": {
       "model_id": "3d2b0d55e73f4656ac06d916679bad1a",
       "version_major": 2,
       "version_minor": 0
      },
      "text/plain": [
       "Epoch 1/3 [Train]:   0%|          | 0/679 [00:00<?, ?it/s]"
      ]
     },
     "metadata": {},
     "output_type": "display_data"
    },
    {
     "data": {
      "application/vnd.jupyter.widget-view+json": {
       "model_id": "f487c57585d74deb8285bc8661fba6be",
       "version_major": 2,
       "version_minor": 0
      },
      "text/plain": [
       "Epoch 1/3 [Val]:   0%|          | 0/170 [00:00<?, ?it/s]"
      ]
     },
     "metadata": {},
     "output_type": "display_data"
    },
    {
     "name": "stdout",
     "output_type": "stream",
     "text": [
      "Epoch 1/3 completed in 1298.36s\n",
      "Train Loss: 1.0420, Train Acc: 0.6978\n",
      "Val Loss: 0.4477, Val Acc: 0.8602\n",
      "--------------------------------------------------\n"
     ]
    },
    {
     "data": {
      "application/vnd.jupyter.widget-view+json": {
       "model_id": "572ed39acc014d01abb51ceba1989f75",
       "version_major": 2,
       "version_minor": 0
      },
      "text/plain": [
       "Epoch 2/3 [Train]:   0%|          | 0/679 [00:00<?, ?it/s]"
      ]
     },
     "metadata": {},
     "output_type": "display_data"
    },
    {
     "data": {
      "application/vnd.jupyter.widget-view+json": {
       "model_id": "9c512ad6b40c41e3b5ccc5ff9eecdc81",
       "version_major": 2,
       "version_minor": 0
      },
      "text/plain": [
       "Epoch 2/3 [Val]:   0%|          | 0/170 [00:00<?, ?it/s]"
      ]
     },
     "metadata": {},
     "output_type": "display_data"
    },
    {
     "name": "stdout",
     "output_type": "stream",
     "text": [
      "Epoch 2/3 completed in 1315.15s\n",
      "Train Loss: 0.4467, Train Acc: 0.8589\n",
      "Val Loss: 0.2450, Val Acc: 0.9219\n",
      "--------------------------------------------------\n"
     ]
    },
    {
     "data": {
      "application/vnd.jupyter.widget-view+json": {
       "model_id": "8faf531fd4504372a9a268b63af278d0",
       "version_major": 2,
       "version_minor": 0
      },
      "text/plain": [
       "Epoch 3/3 [Train]:   0%|          | 0/679 [00:00<?, ?it/s]"
      ]
     },
     "metadata": {},
     "output_type": "display_data"
    },
    {
     "data": {
      "application/vnd.jupyter.widget-view+json": {
       "model_id": "9405f318fc304be79bffcf82e2a7149a",
       "version_major": 2,
       "version_minor": 0
      },
      "text/plain": [
       "Epoch 3/3 [Val]:   0%|          | 0/170 [00:00<?, ?it/s]"
      ]
     },
     "metadata": {},
     "output_type": "display_data"
    },
    {
     "name": "stdout",
     "output_type": "stream",
     "text": [
      "Epoch 3/3 completed in 1339.53s\n",
      "Train Loss: 0.3139, Train Acc: 0.8990\n",
      "Val Loss: 0.1792, Val Acc: 0.9422\n",
      "--------------------------------------------------\n",
      "Particle 5: {'batch_size': 64, 'learning_rate': 0.0001, 'dropout_rate': 0.24344996462339646, 'num_conv_layers': 5, 'num_dense_layers': 1}, Fitness: 0.9422\n",
      "Global best: {'batch_size': 64, 'learning_rate': 0.0001, 'dropout_rate': 0.24344996462339646, 'num_conv_layers': 5, 'num_dense_layers': 1}, Fitness: 0.9422\n",
      "--------------------------------------------------\n",
      "PSO Iteration 5/5\n"
     ]
    },
    {
     "data": {
      "application/vnd.jupyter.widget-view+json": {
       "model_id": "dc5713d76a4042eea2d9862f8a2095d6",
       "version_major": 2,
       "version_minor": 0
      },
      "text/plain": [
       "Epoch 1/3 [Train]:   0%|          | 0/713 [00:00<?, ?it/s]"
      ]
     },
     "metadata": {},
     "output_type": "display_data"
    },
    {
     "data": {
      "application/vnd.jupyter.widget-view+json": {
       "model_id": "920f3bad8d9a48b691a28ae65ec3fac9",
       "version_major": 2,
       "version_minor": 0
      },
      "text/plain": [
       "Epoch 1/3 [Val]:   0%|          | 0/179 [00:00<?, ?it/s]"
      ]
     },
     "metadata": {},
     "output_type": "display_data"
    },
    {
     "name": "stdout",
     "output_type": "stream",
     "text": [
      "Epoch 1/3 completed in 1373.46s\n",
      "Train Loss: 1.0774, Train Acc: 0.6902\n",
      "Val Loss: 0.4905, Val Acc: 0.8502\n",
      "--------------------------------------------------\n"
     ]
    },
    {
     "data": {
      "application/vnd.jupyter.widget-view+json": {
       "model_id": "5ac543956738485cbafd4dfd28aafda8",
       "version_major": 2,
       "version_minor": 0
      },
      "text/plain": [
       "Epoch 2/3 [Train]:   0%|          | 0/713 [00:00<?, ?it/s]"
      ]
     },
     "metadata": {},
     "output_type": "display_data"
    },
    {
     "data": {
      "application/vnd.jupyter.widget-view+json": {
       "model_id": "d9f05f8471a341f0a0e03aefba017c04",
       "version_major": 2,
       "version_minor": 0
      },
      "text/plain": [
       "Epoch 2/3 [Val]:   0%|          | 0/179 [00:00<?, ?it/s]"
      ]
     },
     "metadata": {},
     "output_type": "display_data"
    },
    {
     "name": "stdout",
     "output_type": "stream",
     "text": [
      "Epoch 2/3 completed in 1363.34s\n",
      "Train Loss: 0.4720, Train Acc: 0.8516\n",
      "Val Loss: 0.2543, Val Acc: 0.9205\n",
      "--------------------------------------------------\n"
     ]
    },
    {
     "data": {
      "application/vnd.jupyter.widget-view+json": {
       "model_id": "4c12716aa8f446998ef1b559d9165f42",
       "version_major": 2,
       "version_minor": 0
      },
      "text/plain": [
       "Epoch 3/3 [Train]:   0%|          | 0/713 [00:00<?, ?it/s]"
      ]
     },
     "metadata": {},
     "output_type": "display_data"
    },
    {
     "data": {
      "application/vnd.jupyter.widget-view+json": {
       "model_id": "41155f99f1ed4dfc9744b2146f757633",
       "version_major": 2,
       "version_minor": 0
      },
      "text/plain": [
       "Epoch 3/3 [Val]:   0%|          | 0/179 [00:00<?, ?it/s]"
      ]
     },
     "metadata": {},
     "output_type": "display_data"
    },
    {
     "name": "stdout",
     "output_type": "stream",
     "text": [
      "Epoch 3/3 completed in 1370.28s\n",
      "Train Loss: 0.3315, Train Acc: 0.8930\n",
      "Val Loss: 0.1750, Val Acc: 0.9453\n",
      "--------------------------------------------------\n",
      "Particle 1: {'batch_size': 61, 'learning_rate': 0.0001, 'dropout_rate': 0.2639412210864647, 'num_conv_layers': 5, 'num_dense_layers': 1}, Fitness: 0.9453\n"
     ]
    },
    {
     "data": {
      "application/vnd.jupyter.widget-view+json": {
       "model_id": "e3fe1af300f04f94a45608f56141082e",
       "version_major": 2,
       "version_minor": 0
      },
      "text/plain": [
       "Epoch 1/3 [Train]:   0%|          | 0/679 [00:00<?, ?it/s]"
      ]
     },
     "metadata": {},
     "output_type": "display_data"
    },
    {
     "data": {
      "application/vnd.jupyter.widget-view+json": {
       "model_id": "bdc735db17654de9b64324d0944628a8",
       "version_major": 2,
       "version_minor": 0
      },
      "text/plain": [
       "Epoch 1/3 [Val]:   0%|          | 0/170 [00:00<?, ?it/s]"
      ]
     },
     "metadata": {},
     "output_type": "display_data"
    },
    {
     "name": "stdout",
     "output_type": "stream",
     "text": [
      "Epoch 1/3 completed in 1318.75s\n",
      "Train Loss: 1.1201, Train Acc: 0.6804\n",
      "Val Loss: 0.4533, Val Acc: 0.8603\n",
      "--------------------------------------------------\n"
     ]
    },
    {
     "data": {
      "application/vnd.jupyter.widget-view+json": {
       "model_id": "d55d213a63424a0f882f26057738e6d8",
       "version_major": 2,
       "version_minor": 0
      },
      "text/plain": [
       "Epoch 2/3 [Train]:   0%|          | 0/679 [00:00<?, ?it/s]"
      ]
     },
     "metadata": {},
     "output_type": "display_data"
    },
    {
     "data": {
      "application/vnd.jupyter.widget-view+json": {
       "model_id": "cd64fecf529e47d49a2ba18765fa0fd1",
       "version_major": 2,
       "version_minor": 0
      },
      "text/plain": [
       "Epoch 2/3 [Val]:   0%|          | 0/170 [00:00<?, ?it/s]"
      ]
     },
     "metadata": {},
     "output_type": "display_data"
    },
    {
     "name": "stdout",
     "output_type": "stream",
     "text": [
      "Epoch 2/3 completed in 1315.80s\n",
      "Train Loss: 0.4972, Train Acc: 0.8458\n",
      "Val Loss: 0.2634, Val Acc: 0.9178\n",
      "--------------------------------------------------\n"
     ]
    },
    {
     "data": {
      "application/vnd.jupyter.widget-view+json": {
       "model_id": "edfded77217c4f68ad34272bbd8ee328",
       "version_major": 2,
       "version_minor": 0
      },
      "text/plain": [
       "Epoch 3/3 [Train]:   0%|          | 0/679 [00:00<?, ?it/s]"
      ]
     },
     "metadata": {},
     "output_type": "display_data"
    },
    {
     "data": {
      "application/vnd.jupyter.widget-view+json": {
       "model_id": "128844e1aa73453b81c6ea80e29ead75",
       "version_major": 2,
       "version_minor": 0
      },
      "text/plain": [
       "Epoch 3/3 [Val]:   0%|          | 0/170 [00:00<?, ?it/s]"
      ]
     },
     "metadata": {},
     "output_type": "display_data"
    },
    {
     "name": "stdout",
     "output_type": "stream",
     "text": [
      "Epoch 3/3 completed in 1313.75s\n",
      "Train Loss: 0.3377, Train Acc: 0.8909\n",
      "Val Loss: 0.1804, Val Acc: 0.9414\n",
      "--------------------------------------------------\n",
      "Particle 2: {'batch_size': 64, 'learning_rate': 0.0001, 'dropout_rate': 0.2659625254717028, 'num_conv_layers': 5, 'num_dense_layers': 1}, Fitness: 0.9414\n"
     ]
    },
    {
     "data": {
      "application/vnd.jupyter.widget-view+json": {
       "model_id": "c6079583b9de4d25af0c7c1c80756e55",
       "version_major": 2,
       "version_minor": 0
      },
      "text/plain": [
       "Epoch 1/3 [Train]:   0%|          | 0/750 [00:00<?, ?it/s]"
      ]
     },
     "metadata": {},
     "output_type": "display_data"
    },
    {
     "data": {
      "application/vnd.jupyter.widget-view+json": {
       "model_id": "a5d82c465d744d108ccdf0ac99405bb5",
       "version_major": 2,
       "version_minor": 0
      },
      "text/plain": [
       "Epoch 1/3 [Val]:   0%|          | 0/188 [00:00<?, ?it/s]"
      ]
     },
     "metadata": {},
     "output_type": "display_data"
    },
    {
     "name": "stdout",
     "output_type": "stream",
     "text": [
      "Epoch 1/3 completed in 1315.11s\n",
      "Train Loss: 1.2579, Train Acc: 0.6427\n",
      "Val Loss: 0.4811, Val Acc: 0.8536\n",
      "--------------------------------------------------\n"
     ]
    },
    {
     "data": {
      "application/vnd.jupyter.widget-view+json": {
       "model_id": "cdded8d6dd784968b170474129521c93",
       "version_major": 2,
       "version_minor": 0
      },
      "text/plain": [
       "Epoch 2/3 [Train]:   0%|          | 0/750 [00:00<?, ?it/s]"
      ]
     },
     "metadata": {},
     "output_type": "display_data"
    },
    {
     "data": {
      "application/vnd.jupyter.widget-view+json": {
       "model_id": "e39b78c602844b3ea07e832df4c843cf",
       "version_major": 2,
       "version_minor": 0
      },
      "text/plain": [
       "Epoch 2/3 [Val]:   0%|          | 0/188 [00:00<?, ?it/s]"
      ]
     },
     "metadata": {},
     "output_type": "display_data"
    },
    {
     "name": "stdout",
     "output_type": "stream",
     "text": [
      "Epoch 2/3 completed in 1301.90s\n",
      "Train Loss: 0.5536, Train Acc: 0.8272\n",
      "Val Loss: 0.2941, Val Acc: 0.9073\n",
      "--------------------------------------------------\n"
     ]
    },
    {
     "data": {
      "application/vnd.jupyter.widget-view+json": {
       "model_id": "73b0f1df0beb402586cee0a24c7d1eb4",
       "version_major": 2,
       "version_minor": 0
      },
      "text/plain": [
       "Epoch 3/3 [Train]:   0%|          | 0/750 [00:00<?, ?it/s]"
      ]
     },
     "metadata": {},
     "output_type": "display_data"
    },
    {
     "data": {
      "application/vnd.jupyter.widget-view+json": {
       "model_id": "3dc2a2484c6f4dfe81b1531ef9e7d8a5",
       "version_major": 2,
       "version_minor": 0
      },
      "text/plain": [
       "Epoch 3/3 [Val]:   0%|          | 0/188 [00:00<?, ?it/s]"
      ]
     },
     "metadata": {},
     "output_type": "display_data"
    },
    {
     "name": "stdout",
     "output_type": "stream",
     "text": [
      "Epoch 3/3 completed in 1341.13s\n",
      "Train Loss: 0.3775, Train Acc: 0.8786\n",
      "Val Loss: 0.1745, Val Acc: 0.9422\n",
      "--------------------------------------------------\n",
      "Particle 3: {'batch_size': 58, 'learning_rate': 0.0001, 'dropout_rate': 0.20512648990201363, 'num_conv_layers': 5, 'num_dense_layers': 2}, Fitness: 0.9422\n"
     ]
    },
    {
     "data": {
      "application/vnd.jupyter.widget-view+json": {
       "model_id": "958072abc1444a9aa093d4f2837f7d78",
       "version_major": 2,
       "version_minor": 0
      },
      "text/plain": [
       "Epoch 1/3 [Train]:   0%|          | 0/679 [00:00<?, ?it/s]"
      ]
     },
     "metadata": {},
     "output_type": "display_data"
    },
    {
     "data": {
      "application/vnd.jupyter.widget-view+json": {
       "model_id": "689e703a26004fa7be242e5043d64b55",
       "version_major": 2,
       "version_minor": 0
      },
      "text/plain": [
       "Epoch 1/3 [Val]:   0%|          | 0/170 [00:00<?, ?it/s]"
      ]
     },
     "metadata": {},
     "output_type": "display_data"
    },
    {
     "name": "stdout",
     "output_type": "stream",
     "text": [
      "Epoch 1/3 completed in 1319.13s\n",
      "Train Loss: 1.5032, Train Acc: 0.5813\n",
      "Val Loss: 0.6070, Val Acc: 0.8159\n",
      "--------------------------------------------------\n"
     ]
    },
    {
     "data": {
      "application/vnd.jupyter.widget-view+json": {
       "model_id": "46f3701691794162910b7543afaa5788",
       "version_major": 2,
       "version_minor": 0
      },
      "text/plain": [
       "Epoch 2/3 [Train]:   0%|          | 0/679 [00:00<?, ?it/s]"
      ]
     },
     "metadata": {},
     "output_type": "display_data"
    },
    {
     "data": {
      "application/vnd.jupyter.widget-view+json": {
       "model_id": "78af2513c07049c3b1308a2bfc19570f",
       "version_major": 2,
       "version_minor": 0
      },
      "text/plain": [
       "Epoch 2/3 [Val]:   0%|          | 0/170 [00:00<?, ?it/s]"
      ]
     },
     "metadata": {},
     "output_type": "display_data"
    },
    {
     "name": "stdout",
     "output_type": "stream",
     "text": [
      "Epoch 2/3 completed in 1330.80s\n",
      "Train Loss: 0.7178, Train Acc: 0.7815\n",
      "Val Loss: 0.3118, Val Acc: 0.9069\n",
      "--------------------------------------------------\n"
     ]
    },
    {
     "data": {
      "application/vnd.jupyter.widget-view+json": {
       "model_id": "73fac24dcb3d423e9e7a70a1ec0e52cd",
       "version_major": 2,
       "version_minor": 0
      },
      "text/plain": [
       "Epoch 3/3 [Train]:   0%|          | 0/679 [00:00<?, ?it/s]"
      ]
     },
     "metadata": {},
     "output_type": "display_data"
    },
    {
     "data": {
      "application/vnd.jupyter.widget-view+json": {
       "model_id": "41ce0eca276f4f1f9c9e222d60648a92",
       "version_major": 2,
       "version_minor": 0
      },
      "text/plain": [
       "Epoch 3/3 [Val]:   0%|          | 0/170 [00:00<?, ?it/s]"
      ]
     },
     "metadata": {},
     "output_type": "display_data"
    },
    {
     "name": "stdout",
     "output_type": "stream",
     "text": [
      "Epoch 3/3 completed in 1317.18s\n",
      "Train Loss: 0.4919, Train Acc: 0.8456\n",
      "Val Loss: 0.2237, Val Acc: 0.9305\n",
      "--------------------------------------------------\n",
      "Particle 4: {'batch_size': 64, 'learning_rate': 0.0001, 'dropout_rate': 0.3022372265477447, 'num_conv_layers': 5, 'num_dense_layers': 2}, Fitness: 0.9305\n"
     ]
    },
    {
     "data": {
      "application/vnd.jupyter.widget-view+json": {
       "model_id": "764cbf4cae7d4fbd8666416d4095c380",
       "version_major": 2,
       "version_minor": 0
      },
      "text/plain": [
       "Epoch 1/3 [Train]:   0%|          | 0/679 [00:00<?, ?it/s]"
      ]
     },
     "metadata": {},
     "output_type": "display_data"
    },
    {
     "data": {
      "application/vnd.jupyter.widget-view+json": {
       "model_id": "1105982d12b34ddb85ac2833f21d05c2",
       "version_major": 2,
       "version_minor": 0
      },
      "text/plain": [
       "Epoch 1/3 [Val]:   0%|          | 0/170 [00:00<?, ?it/s]"
      ]
     },
     "metadata": {},
     "output_type": "display_data"
    },
    {
     "name": "stdout",
     "output_type": "stream",
     "text": [
      "Epoch 1/3 completed in 1309.01s\n",
      "Train Loss: 1.0768, Train Acc: 0.6919\n",
      "Val Loss: 0.4005, Val Acc: 0.8819\n",
      "--------------------------------------------------\n"
     ]
    },
    {
     "data": {
      "application/vnd.jupyter.widget-view+json": {
       "model_id": "9bff5591366e410d937d4071e6ddeddf",
       "version_major": 2,
       "version_minor": 0
      },
      "text/plain": [
       "Epoch 2/3 [Train]:   0%|          | 0/679 [00:00<?, ?it/s]"
      ]
     },
     "metadata": {},
     "output_type": "display_data"
    },
    {
     "data": {
      "application/vnd.jupyter.widget-view+json": {
       "model_id": "62520f0e469d4c1990ee25fddef21504",
       "version_major": 2,
       "version_minor": 0
      },
      "text/plain": [
       "Epoch 2/3 [Val]:   0%|          | 0/170 [00:00<?, ?it/s]"
      ]
     },
     "metadata": {},
     "output_type": "display_data"
    },
    {
     "name": "stdout",
     "output_type": "stream",
     "text": [
      "Epoch 2/3 completed in 1316.73s\n",
      "Train Loss: 0.4660, Train Acc: 0.8531\n",
      "Val Loss: 0.2580, Val Acc: 0.9176\n",
      "--------------------------------------------------\n"
     ]
    },
    {
     "data": {
      "application/vnd.jupyter.widget-view+json": {
       "model_id": "18ac16705ee24736a5aedc7487e2ff5d",
       "version_major": 2,
       "version_minor": 0
      },
      "text/plain": [
       "Epoch 3/3 [Train]:   0%|          | 0/679 [00:00<?, ?it/s]"
      ]
     },
     "metadata": {},
     "output_type": "display_data"
    },
    {
     "data": {
      "application/vnd.jupyter.widget-view+json": {
       "model_id": "c99a111586a74b31974573f2a9179dfa",
       "version_major": 2,
       "version_minor": 0
      },
      "text/plain": [
       "Epoch 3/3 [Val]:   0%|          | 0/170 [00:00<?, ?it/s]"
      ]
     },
     "metadata": {},
     "output_type": "display_data"
    },
    {
     "name": "stdout",
     "output_type": "stream",
     "text": [
      "Epoch 3/3 completed in 1308.20s\n",
      "Train Loss: 0.3150, Train Acc: 0.8979\n",
      "Val Loss: 0.1983, Val Acc: 0.9360\n",
      "--------------------------------------------------\n",
      "Particle 5: {'batch_size': 64, 'learning_rate': 0.0001, 'dropout_rate': 0.22802654878547704, 'num_conv_layers': 5, 'num_dense_layers': 1}, Fitness: 0.9360\n",
      "Global best: {'batch_size': 61, 'learning_rate': 0.0001, 'dropout_rate': 0.2639412210864647, 'num_conv_layers': 5, 'num_dense_layers': 1}, Fitness: 0.9453\n",
      "--------------------------------------------------\n",
      "\n",
      "Best hyperparameters found:\n",
      "batch_size: 61\n",
      "learning_rate: 0.0001\n",
      "dropout_rate: 0.2639412210864647\n",
      "num_conv_layers: 5\n",
      "num_dense_layers: 1\n",
      "Best validation accuracy: 0.9453\n"
     ]
    }
   ],
   "source": [
    "# Initialize PSO\n",
    "pso = PSO(\n",
    "    bounds=hyperparameter_bounds,\n",
    "    num_particles=5,\n",
    "    max_iter=5,\n",
    "    w=0.5,\n",
    "    c1=1.5,\n",
    "    c2=1.5\n",
    ")\n",
    "\n",
    "# Run PSO optimization\n",
    "print(\"Running PSO optimization...\")\n",
    "best_hyperparams, best_fitness, history = pso.optimize(evaluate_hyperparameters)\n",
    "\n",
    "print(\"\\nBest hyperparameters found:\")\n",
    "for param, value in best_hyperparams.items():\n",
    "    print(f\"{param}: {value}\")\n",
    "print(f\"Best validation accuracy: {best_fitness:.4f}\")"
   ]
  },
  {
   "cell_type": "markdown",
   "metadata": {},
   "source": [
    "## 8. Train Optimized Model\n"
   ]
  },
  {
   "cell_type": "code",
   "execution_count": null,
   "metadata": {},
   "outputs": [
    {
     "name": "stdout",
     "output_type": "stream",
     "text": [
      "Training optimized model...\n"
     ]
    },
    {
     "data": {
      "application/vnd.jupyter.widget-view+json": {
       "model_id": "4eb16a7df55e4fa891b1b142ad63b901",
       "version_major": 2,
       "version_minor": 0
      },
      "text/plain": [
       "Epoch 1/15 [Train]:   0%|          | 0/713 [00:00<?, ?it/s]"
      ]
     },
     "metadata": {},
     "output_type": "display_data"
    },
    {
     "data": {
      "application/vnd.jupyter.widget-view+json": {
       "model_id": "c24cf15e85b9476fb408b0da855a7d74",
       "version_major": 2,
       "version_minor": 0
      },
      "text/plain": [
       "Epoch 1/15 [Val]:   0%|          | 0/179 [00:00<?, ?it/s]"
      ]
     },
     "metadata": {},
     "output_type": "display_data"
    },
    {
     "name": "stdout",
     "output_type": "stream",
     "text": [
      "Epoch 1/15 completed in 1428.98s\n",
      "Train Loss: 1.0875, Train Acc: 0.6849\n",
      "Val Loss: 0.4289, Val Acc: 0.8648\n",
      "--------------------------------------------------\n"
     ]
    },
    {
     "data": {
      "application/vnd.jupyter.widget-view+json": {
       "model_id": "f2d9bdf7ae0d42d78c44637f981f96db",
       "version_major": 2,
       "version_minor": 0
      },
      "text/plain": [
       "Epoch 2/15 [Train]:   0%|          | 0/713 [00:00<?, ?it/s]"
      ]
     },
     "metadata": {},
     "output_type": "display_data"
    },
    {
     "data": {
      "application/vnd.jupyter.widget-view+json": {
       "model_id": "fee0d81c10924277b3f2ff6c5a544447",
       "version_major": 2,
       "version_minor": 0
      },
      "text/plain": [
       "Epoch 2/15 [Val]:   0%|          | 0/179 [00:00<?, ?it/s]"
      ]
     },
     "metadata": {},
     "output_type": "display_data"
    },
    {
     "name": "stdout",
     "output_type": "stream",
     "text": [
      "Epoch 2/15 completed in 1363.49s\n",
      "Train Loss: 0.4908, Train Acc: 0.8431\n",
      "Val Loss: 0.2615, Val Acc: 0.9170\n",
      "--------------------------------------------------\n"
     ]
    },
    {
     "data": {
      "application/vnd.jupyter.widget-view+json": {
       "model_id": "23b21c4f0e1044648704da1ee878b109",
       "version_major": 2,
       "version_minor": 0
      },
      "text/plain": [
       "Epoch 3/15 [Train]:   0%|          | 0/713 [00:00<?, ?it/s]"
      ]
     },
     "metadata": {},
     "output_type": "display_data"
    },
    {
     "data": {
      "application/vnd.jupyter.widget-view+json": {
       "model_id": "b8a309fb664647508e42b71b0fe65d2e",
       "version_major": 2,
       "version_minor": 0
      },
      "text/plain": [
       "Epoch 3/15 [Val]:   0%|          | 0/179 [00:00<?, ?it/s]"
      ]
     },
     "metadata": {},
     "output_type": "display_data"
    },
    {
     "name": "stdout",
     "output_type": "stream",
     "text": [
      "Epoch 3/15 completed in 1423.41s\n",
      "Train Loss: 0.3395, Train Acc: 0.8906\n",
      "Val Loss: 0.1897, Val Acc: 0.9385\n",
      "--------------------------------------------------\n"
     ]
    },
    {
     "data": {
      "application/vnd.jupyter.widget-view+json": {
       "model_id": "5c21da90ae124251bffa5234166442f6",
       "version_major": 2,
       "version_minor": 0
      },
      "text/plain": [
       "Epoch 4/15 [Train]:   0%|          | 0/713 [00:00<?, ?it/s]"
      ]
     },
     "metadata": {},
     "output_type": "display_data"
    },
    {
     "data": {
      "application/vnd.jupyter.widget-view+json": {
       "model_id": "3a629700b0d44697b3b3448e02dccf01",
       "version_major": 2,
       "version_minor": 0
      },
      "text/plain": [
       "Epoch 4/15 [Val]:   0%|          | 0/179 [00:00<?, ?it/s]"
      ]
     },
     "metadata": {},
     "output_type": "display_data"
    },
    {
     "name": "stdout",
     "output_type": "stream",
     "text": [
      "Epoch 4/15 completed in 1190.95s\n",
      "Train Loss: 0.2573, Train Acc: 0.9162\n",
      "Val Loss: 0.1402, Val Acc: 0.9541\n",
      "--------------------------------------------------\n"
     ]
    },
    {
     "data": {
      "application/vnd.jupyter.widget-view+json": {
       "model_id": "6422b40ea47d49aa9cbfcb8796833837",
       "version_major": 2,
       "version_minor": 0
      },
      "text/plain": [
       "Epoch 5/15 [Train]:   0%|          | 0/713 [00:00<?, ?it/s]"
      ]
     },
     "metadata": {},
     "output_type": "display_data"
    },
    {
     "data": {
      "application/vnd.jupyter.widget-view+json": {
       "model_id": "5b28228dc08341b69b6a912bd549a921",
       "version_major": 2,
       "version_minor": 0
      },
      "text/plain": [
       "Epoch 5/15 [Val]:   0%|          | 0/179 [00:00<?, ?it/s]"
      ]
     },
     "metadata": {},
     "output_type": "display_data"
    },
    {
     "name": "stdout",
     "output_type": "stream",
     "text": [
      "Epoch 5/15 completed in 1319.96s\n",
      "Train Loss: 0.2147, Train Acc: 0.9290\n",
      "Val Loss: 0.1195, Val Acc: 0.9598\n",
      "--------------------------------------------------\n"
     ]
    },
    {
     "data": {
      "application/vnd.jupyter.widget-view+json": {
       "model_id": "a9e6a8e3e3e146acaf51c205a14e3953",
       "version_major": 2,
       "version_minor": 0
      },
      "text/plain": [
       "Epoch 6/15 [Train]:   0%|          | 0/713 [00:00<?, ?it/s]"
      ]
     },
     "metadata": {},
     "output_type": "display_data"
    },
    {
     "data": {
      "application/vnd.jupyter.widget-view+json": {
       "model_id": "aa45a429502c4777961e3047593ab7b4",
       "version_major": 2,
       "version_minor": 0
      },
      "text/plain": [
       "Epoch 6/15 [Val]:   0%|          | 0/179 [00:00<?, ?it/s]"
      ]
     },
     "metadata": {},
     "output_type": "display_data"
    },
    {
     "name": "stdout",
     "output_type": "stream",
     "text": [
      "Epoch 6/15 completed in 1176.64s\n",
      "Train Loss: 0.1801, Train Acc: 0.9400\n",
      "Val Loss: 0.1062, Val Acc: 0.9642\n",
      "--------------------------------------------------\n"
     ]
    },
    {
     "data": {
      "application/vnd.jupyter.widget-view+json": {
       "model_id": "883b9ae397444965868e5b0ba8cb9652",
       "version_major": 2,
       "version_minor": 0
      },
      "text/plain": [
       "Epoch 7/15 [Train]:   0%|          | 0/713 [00:00<?, ?it/s]"
      ]
     },
     "metadata": {},
     "output_type": "display_data"
    },
    {
     "data": {
      "application/vnd.jupyter.widget-view+json": {
       "model_id": "92c37908b4a54fcb9166000f45f32e89",
       "version_major": 2,
       "version_minor": 0
      },
      "text/plain": [
       "Epoch 7/15 [Val]:   0%|          | 0/179 [00:00<?, ?it/s]"
      ]
     },
     "metadata": {},
     "output_type": "display_data"
    },
    {
     "name": "stdout",
     "output_type": "stream",
     "text": [
      "Epoch 7/15 completed in 1143.37s\n",
      "Train Loss: 0.1555, Train Acc: 0.9486\n",
      "Val Loss: 0.1485, Val Acc: 0.9512\n",
      "--------------------------------------------------\n"
     ]
    },
    {
     "data": {
      "application/vnd.jupyter.widget-view+json": {
       "model_id": "360e6a22cace40bb82045190d7bd993a",
       "version_major": 2,
       "version_minor": 0
      },
      "text/plain": [
       "Epoch 8/15 [Train]:   0%|          | 0/713 [00:00<?, ?it/s]"
      ]
     },
     "metadata": {},
     "output_type": "display_data"
    },
    {
     "data": {
      "application/vnd.jupyter.widget-view+json": {
       "model_id": "e64382eb1e9c4c0a867976e6a72a4b81",
       "version_major": 2,
       "version_minor": 0
      },
      "text/plain": [
       "Epoch 8/15 [Val]:   0%|          | 0/179 [00:00<?, ?it/s]"
      ]
     },
     "metadata": {},
     "output_type": "display_data"
    },
    {
     "name": "stdout",
     "output_type": "stream",
     "text": [
      "Epoch 8/15 completed in 1161.24s\n",
      "Train Loss: 0.1409, Train Acc: 0.9527\n",
      "Val Loss: 0.0851, Val Acc: 0.9715\n",
      "--------------------------------------------------\n"
     ]
    },
    {
     "data": {
      "application/vnd.jupyter.widget-view+json": {
       "model_id": "8ceb7f17105c4610973a017061a1138b",
       "version_major": 2,
       "version_minor": 0
      },
      "text/plain": [
       "Epoch 9/15 [Train]:   0%|          | 0/713 [00:00<?, ?it/s]"
      ]
     },
     "metadata": {},
     "output_type": "display_data"
    },
    {
     "data": {
      "application/vnd.jupyter.widget-view+json": {
       "model_id": "c04c7b06e57f4b0d95a5b1b9e60e013d",
       "version_major": 2,
       "version_minor": 0
      },
      "text/plain": [
       "Epoch 9/15 [Val]:   0%|          | 0/179 [00:00<?, ?it/s]"
      ]
     },
     "metadata": {},
     "output_type": "display_data"
    },
    {
     "name": "stdout",
     "output_type": "stream",
     "text": [
      "Epoch 9/15 completed in 1162.22s\n",
      "Train Loss: 0.1298, Train Acc: 0.9551\n",
      "Val Loss: 0.0793, Val Acc: 0.9742\n",
      "--------------------------------------------------\n"
     ]
    },
    {
     "data": {
      "application/vnd.jupyter.widget-view+json": {
       "model_id": "5873a82c8da24475b5ca1848b01174c7",
       "version_major": 2,
       "version_minor": 0
      },
      "text/plain": [
       "Epoch 10/15 [Train]:   0%|          | 0/713 [00:00<?, ?it/s]"
      ]
     },
     "metadata": {},
     "output_type": "display_data"
    },
    {
     "data": {
      "application/vnd.jupyter.widget-view+json": {
       "model_id": "f22e82ceef4a4d2ba673e668d5177815",
       "version_major": 2,
       "version_minor": 0
      },
      "text/plain": [
       "Epoch 10/15 [Val]:   0%|          | 0/179 [00:00<?, ?it/s]"
      ]
     },
     "metadata": {},
     "output_type": "display_data"
    },
    {
     "name": "stdout",
     "output_type": "stream",
     "text": [
      "Epoch 10/15 completed in 1159.83s\n",
      "Train Loss: 0.1127, Train Acc: 0.9628\n",
      "Val Loss: 0.0648, Val Acc: 0.9791\n",
      "--------------------------------------------------\n"
     ]
    },
    {
     "data": {
      "application/vnd.jupyter.widget-view+json": {
       "model_id": "cd5313c88e244e2288e9f6c4fed25edd",
       "version_major": 2,
       "version_minor": 0
      },
      "text/plain": [
       "Epoch 11/15 [Train]:   0%|          | 0/713 [00:00<?, ?it/s]"
      ]
     },
     "metadata": {},
     "output_type": "display_data"
    },
    {
     "data": {
      "application/vnd.jupyter.widget-view+json": {
       "model_id": "ac3e2bb2f88048f294887295ceb3b6da",
       "version_major": 2,
       "version_minor": 0
      },
      "text/plain": [
       "Epoch 11/15 [Val]:   0%|          | 0/179 [00:00<?, ?it/s]"
      ]
     },
     "metadata": {},
     "output_type": "display_data"
    },
    {
     "name": "stdout",
     "output_type": "stream",
     "text": [
      "Epoch 11/15 completed in 1164.32s\n",
      "Train Loss: 0.1086, Train Acc: 0.9634\n",
      "Val Loss: 0.1097, Val Acc: 0.9653\n",
      "--------------------------------------------------\n"
     ]
    },
    {
     "data": {
      "application/vnd.jupyter.widget-view+json": {
       "model_id": "a02f0ed80d7b4167a8f761920a67163b",
       "version_major": 2,
       "version_minor": 0
      },
      "text/plain": [
       "Epoch 12/15 [Train]:   0%|          | 0/713 [00:00<?, ?it/s]"
      ]
     },
     "metadata": {},
     "output_type": "display_data"
    },
    {
     "data": {
      "application/vnd.jupyter.widget-view+json": {
       "model_id": "e3e3c9f3602447c797a6b39bafba7780",
       "version_major": 2,
       "version_minor": 0
      },
      "text/plain": [
       "Epoch 12/15 [Val]:   0%|          | 0/179 [00:00<?, ?it/s]"
      ]
     },
     "metadata": {},
     "output_type": "display_data"
    },
    {
     "name": "stdout",
     "output_type": "stream",
     "text": [
      "Epoch 12/15 completed in 1168.22s\n",
      "Train Loss: 0.0967, Train Acc: 0.9671\n",
      "Val Loss: 0.0644, Val Acc: 0.9787\n",
      "--------------------------------------------------\n"
     ]
    },
    {
     "data": {
      "application/vnd.jupyter.widget-view+json": {
       "model_id": "2ea9799946b345da9e55f922d20f629c",
       "version_major": 2,
       "version_minor": 0
      },
      "text/plain": [
       "Epoch 13/15 [Train]:   0%|          | 0/713 [00:00<?, ?it/s]"
      ]
     },
     "metadata": {},
     "output_type": "display_data"
    },
    {
     "data": {
      "application/vnd.jupyter.widget-view+json": {
       "model_id": "86308f25ef15456d88f769aae176e4d0",
       "version_major": 2,
       "version_minor": 0
      },
      "text/plain": [
       "Epoch 13/15 [Val]:   0%|          | 0/179 [00:00<?, ?it/s]"
      ]
     },
     "metadata": {},
     "output_type": "display_data"
    },
    {
     "name": "stdout",
     "output_type": "stream",
     "text": [
      "Epoch 13/15 completed in 1180.14s\n",
      "Train Loss: 0.0929, Train Acc: 0.9681\n",
      "Val Loss: 0.0625, Val Acc: 0.9791\n",
      "--------------------------------------------------\n"
     ]
    },
    {
     "data": {
      "application/vnd.jupyter.widget-view+json": {
       "model_id": "37d95046f8ea48dd8cabafe875d344e6",
       "version_major": 2,
       "version_minor": 0
      },
      "text/plain": [
       "Epoch 14/15 [Train]:   0%|          | 0/713 [00:00<?, ?it/s]"
      ]
     },
     "metadata": {},
     "output_type": "display_data"
    },
    {
     "data": {
      "application/vnd.jupyter.widget-view+json": {
       "model_id": "35a36d1aea3a4432966b84eeeb6a5f2e",
       "version_major": 2,
       "version_minor": 0
      },
      "text/plain": [
       "Epoch 14/15 [Val]:   0%|          | 0/179 [00:00<?, ?it/s]"
      ]
     },
     "metadata": {},
     "output_type": "display_data"
    },
    {
     "name": "stdout",
     "output_type": "stream",
     "text": [
      "Epoch 14/15 completed in 1178.90s\n",
      "Train Loss: 0.0816, Train Acc: 0.9720\n",
      "Val Loss: 0.0578, Val Acc: 0.9819\n",
      "--------------------------------------------------\n"
     ]
    },
    {
     "data": {
      "application/vnd.jupyter.widget-view+json": {
       "model_id": "3ac2d8bee5db4e60bb83a45f2fe374d1",
       "version_major": 2,
       "version_minor": 0
      },
      "text/plain": [
       "Epoch 15/15 [Train]:   0%|          | 0/713 [00:00<?, ?it/s]"
      ]
     },
     "metadata": {},
     "output_type": "display_data"
    },
    {
     "data": {
      "application/vnd.jupyter.widget-view+json": {
       "model_id": "b658faebb8c84a7985f3d083c090b1f0",
       "version_major": 2,
       "version_minor": 0
      },
      "text/plain": [
       "Epoch 15/15 [Val]:   0%|          | 0/179 [00:00<?, ?it/s]"
      ]
     },
     "metadata": {},
     "output_type": "display_data"
    },
    {
     "name": "stdout",
     "output_type": "stream",
     "text": [
      "Epoch 15/15 completed in 1180.50s\n",
      "Train Loss: 0.0784, Train Acc: 0.9730\n",
      "Val Loss: 0.0620, Val Acc: 0.9785\n",
      "--------------------------------------------------\n",
      "Optimized model saved with validation accuracy: 0.9819\n"
     ]
    }
   ],
   "source": [
    "# Add number of epochs to best hyperparameters\n",
    "best_hyperparams['num_epochs'] = 15\n",
    "#best_hyperparams['patience'] = 5  # Early stopping patience\n",
    "\n",
    "# Load data with optimized batch size\n",
    "train_loader, val_loader, _, _ = load_data(batch_size=best_hyperparams['batch_size'])\n",
    "\n",
    "# Create optimized model\n",
    "optimized_model = PlantDiseaseModel(\n",
    "    num_classes=num_classes,\n",
    "    dropout_rate=best_hyperparams['dropout_rate'],\n",
    "    num_conv_layers=best_hyperparams['num_conv_layers'],\n",
    "    num_dense_layers=best_hyperparams['num_dense_layers']\n",
    ").to(device)\n",
    "\n",
    "# Define loss function and optimizer\n",
    "criterion = nn.CrossEntropyLoss()\n",
    "optimizer = optim.Adam(optimized_model.parameters(), lr=best_hyperparams['learning_rate'])\n",
    "\n",
    "# Train optimized model with early stopping\n",
    "print(\"Training optimized model...\")\n",
    "optimized_model, optimized_metrics = train_model(\n",
    "    optimized_model, \n",
    "    train_loader, \n",
    "    val_loader, \n",
    "    criterion, \n",
    "    optimizer, \n",
    "    num_epochs=best_hyperparams['num_epochs'],\n",
    "   # patience=best_hyperparams['patience']  # Pass patience parameter to train_model\n",
    ")\n",
    "\n",
    "# Save optimized model\n",
    "torch.save(optimized_model.state_dict(), 'optimized_model.pt')\n",
    "print(f\"Optimized model saved with validation accuracy: {optimized_metrics['best_val_acc']:.4f}\")"
   ]
  },
  {
   "cell_type": "markdown",
   "metadata": {},
   "source": [
    "## 9. Compare Base and Optimized Models"
   ]
  },
  {
   "cell_type": "code",
   "execution_count": null,
   "metadata": {},
   "outputs": [
    {
     "data": {
      "image/png": "[encoded data removed]",
      "text/plain": [
       "<Figure size 1200x500 with 2 Axes>"
      ]
     },
     "metadata": {},
     "output_type": "display_data"
    },
    {
     "data": {
      "image/png": "[encoded data removed]",
      "text/plain": [
       "<Figure size 1200x500 with 2 Axes>"
      ]
     },
     "metadata": {},
     "output_type": "display_data"
    }
   ],
   "source": [
    "# Plot training and validation accuracy\n",
    "plt.figure(figsize=(12, 5))\n",
    "\n",
    "# Plot training accuracy\n",
    "plt.subplot(1, 2, 1)\n",
    "plt.plot(range(1, len(base_metrics['train_accs']) + 1), base_metrics['train_accs'], 'b-', label='Base Model')\n",
    "plt.plot(range(1, len(optimized_metrics['train_accs']) + 1), optimized_metrics['train_accs'], 'r-', label='Optimized Model')\n",
    "plt.title('Training Accuracy')\n",
    "plt.xlabel('Epoch')\n",
    "plt.ylabel('Accuracy')\n",
    "plt.legend()\n",
    "plt.grid(True)\n",
    "\n",
    "# Plot validation accuracy\n",
    "plt.subplot(1, 2, 2)\n",
    "plt.plot(range(1, len(base_metrics['val_accs']) + 1), base_metrics['val_accs'], 'b-', label='Base Model')\n",
    "plt.plot(range(1, len(optimized_metrics['val_accs']) + 1), optimized_metrics['val_accs'], 'r-', label='Optimized Model')\n",
    "plt.title('Validation Accuracy')\n",
    "plt.xlabel('Epoch')\n",
    "plt.ylabel('Accuracy')\n",
    "plt.legend()\n",
    "plt.grid(True)\n",
    "\n",
    "plt.tight_layout()\n",
    "plt.show()\n",
    "\n",
    "# Plot training and validation loss\n",
    "plt.figure(figsize=(12, 5))\n",
    "\n",
    "# Plot training loss\n",
    "plt.subplot(1, 2, 1)\n",
    "plt.plot(range(1, len(base_metrics['train_losses']) + 1), base_metrics['train_losses'], 'b-', label='Base Model')\n",
    "plt.plot(range(1, len(optimized_metrics['train_losses']) + 1), optimized_metrics['train_losses'], 'r-', label='Optimized Model')\n",
    "plt.title('Training Loss')\n",
    "plt.xlabel('Epoch')\n",
    "plt.ylabel('Loss')\n",
    "plt.legend()\n",
    "plt.grid(True)\n",
    "\n",
    "# Plot validation loss\n",
    "plt.subplot(1, 2, 2)\n",
    "plt.plot(range(1, len(base_metrics['val_losses']) + 1), base_metrics['val_losses'], 'b-', label='Base Model')\n",
    "plt.plot(range(1, len(optimized_metrics['val_losses']) + 1), optimized_metrics['val_losses'], 'r-', label='Optimized Model')\n",
    "plt.title('Validation Loss')\n",
    "plt.xlabel('Epoch')\n",
    "plt.ylabel('Loss')\n",
    "plt.legend()\n",
    "plt.grid(True)\n",
    "\n",
    "plt.tight_layout()\n",
    "plt.show()\n",
    "\n"
   ]
  },
  {
   "cell_type": "code",
   "execution_count": null,
   "metadata": {},
   "outputs": [
    {
     "data": {
      "application/vnd.microsoft.datawrangler.viewer.v0+json": {
       "columns": [
        {
         "name": "index",
         "rawType": "int64",
         "type": "integer"
        },
        {
         "name": "Model",
         "rawType": "object",
         "type": "string"
        },
        {
         "name": "Best Validation Accuracy",
         "rawType": "float64",
         "type": "float"
        },
        {
         "name": "Final Training Accuracy",
         "rawType": "float64",
         "type": "float"
        },
        {
         "name": "Final Validation Accuracy",
         "rawType": "float64",
         "type": "float"
        },
        {
         "name": "Final Training Loss",
         "rawType": "float64",
         "type": "float"
        },
        {
         "name": "Final Validation Loss",
         "rawType": "float64",
         "type": "float"
        }
       ],
       "conversionMethod": "pd.DataFrame",
       "ref": "e4782b3f-68ce-4ab7-a2a2-fda3ea36885d",
       "rows": [
        [
         "0",
         "Base Model",
         "0.8478040696068503",
         "0.6940429058097781",
         "0.8478040696068503",
         "0.9858366379574532",
         "0.49802646691118685"
        ],
        [
         "1",
         "Optimized Model",
         "0.9818617070251359",
         "0.9729997237823406",
         "0.9785470951109475",
         "0.07842750334785295",
         "0.062025596279203676"
        ]
       ],
       "shape": {
        "columns": 6,
        "rows": 2
       }
      },
      "text/html": [
       "<div>\n",
       "<style scoped>\n",
       "    .dataframe tbody tr th:only-of-type {\n",
       "        vertical-align: middle;\n",
       "    }\n",
       "\n",
       "    .dataframe tbody tr th {\n",
       "        vertical-align: top;\n",
       "    }\n",
       "\n",
       "    .dataframe thead th {\n",
       "        text-align: right;\n",
       "    }\n",
       "</style>\n",
       "<table border=\"1\" class=\"dataframe\">\n",
       "  <thead>\n",
       "    <tr style=\"text-align: right;\">\n",
       "      <th></th>\n",
       "      <th>Model</th>\n",
       "      <th>Best Validation Accuracy</th>\n",
       "      <th>Final Training Accuracy</th>\n",
       "      <th>Final Validation Accuracy</th>\n",
       "      <th>Final Training Loss</th>\n",
       "      <th>Final Validation Loss</th>\n",
       "    </tr>\n",
       "  </thead>\n",
       "  <tbody>\n",
       "    <tr>\n",
       "      <th>0</th>\n",
       "      <td>Base Model</td>\n",
       "      <td>0.847804</td>\n",
       "      <td>0.694043</td>\n",
       "      <td>0.847804</td>\n",
       "      <td>0.985837</td>\n",
       "      <td>0.498026</td>\n",
       "    </tr>\n",
       "    <tr>\n",
       "      <th>1</th>\n",
       "      <td>Optimized Model</td>\n",
       "      <td>0.981862</td>\n",
       "      <td>0.973000</td>\n",
       "      <td>0.978547</td>\n",
       "      <td>0.078428</td>\n",
       "      <td>0.062026</td>\n",
       "    </tr>\n",
       "  </tbody>\n",
       "</table>\n",
       "</div>"
      ],
      "text/plain": [
       "             Model  Best Validation Accuracy  Final Training Accuracy  \\\n",
       "0       Base Model                  0.847804                 0.694043   \n",
       "1  Optimized Model                  0.981862                 0.973000   \n",
       "\n",
       "   Final Validation Accuracy  Final Training Loss  Final Validation Loss  \n",
       "0                   0.847804             0.985837               0.498026  \n",
       "1                   0.978547             0.078428               0.062026  "
      ]
     },
     "execution_count": 12,
     "metadata": {},
     "output_type": "execute_result"
    }
   ],
   "source": [
    "# Print comparison table\n",
    "comparison_data = {\n",
    "    'Model': ['Base Model', 'Optimized Model'],\n",
    "    'Best Validation Accuracy': [\n",
    "        base_metrics['best_val_acc'].cpu().item() if torch.is_tensor(base_metrics['best_val_acc']) else base_metrics['best_val_acc'], \n",
    "        optimized_metrics['best_val_acc'].cpu().item() if torch.is_tensor(optimized_metrics['best_val_acc']) else optimized_metrics['best_val_acc']\n",
    "    ],\n",
    "    'Final Training Accuracy': [base_metrics['train_accs'][-1], optimized_metrics['train_accs'][-1]],\n",
    "    'Final Validation Accuracy': [base_metrics['val_accs'][-1], optimized_metrics['val_accs'][-1]],\n",
    "    'Final Training Loss': [base_metrics['train_losses'][-1], optimized_metrics['train_losses'][-1]],\n",
    "    'Final Validation Loss': [base_metrics['val_losses'][-1], optimized_metrics['val_losses'][-1]]\n",
    "}\n",
    "\n",
    "comparison_df = pd.DataFrame(comparison_data)\n",
    "comparison_df"
   ]
  },
  {
   "cell_type": "markdown",
   "metadata": {},
   "source": [
    "## 10. Launch the GUI Application"
   ]
  },
  {
   "cell_type": "code",
   "execution_count": 13,
   "metadata": {},
   "outputs": [
    {
     "name": "stdout",
     "output_type": "stream",
     "text": [
      "Loading models for 38 classes...\n",
      "\n",
      "Loading base model:\n",
      "Loaded hyperparameters from base_hyperparams.json:\n",
      "  - dropout_rate: 0.5\n",
      "  - num_conv_layers: 4\n",
      "  - num_dense_layers: 2\n",
      "Successfully loaded model weights from base_model.pt\n",
      "\n",
      "Loading optimized model:\n",
      "Loaded hyperparameters from optimized_hyperparams.json:\n",
      "  - dropout_rate: 0.2639412210864647\n",
      "  - num_conv_layers: 5\n",
      "  - num_dense_layers: 1\n",
      "Successfully loaded model weights from optimized_model.pt\n",
      "\n",
      "Models loaded successfully. Starting GUI...\n"
     ]
    },
    {
     "data": {
      "image/png": "[encoded data removed]",
      "text/plain": [
       "<Figure size 678x415 with 1 Axes>"
      ]
     },
     "metadata": {},
     "output_type": "display_data"
    },
    {
     "data": {
      "image/png": "[encoded data removed]",
      "text/plain": [
       "<Figure size 678x415 with 1 Axes>"
      ]
     },
     "metadata": {},
     "output_type": "display_data"
    },
    {
     "data": {
      "image/png": "[encoded data removed]",
      "text/plain": [
       "<Figure size 678x325 with 1 Axes>"
      ]
     },
     "metadata": {},
     "output_type": "display_data"
    }
   ],
   "source": [
    "import json\n",
    "import os\n",
    "\n",
    "# Function to load model from file\n",
    "def load_model_from_file(model_path, num_classes, hyperparams_path=None):\n",
    "    \"\"\"Load a model from a saved file with specified hyperparameters\"\"\"\n",
    "    \n",
    "    # Load hyperparameters from JSON if provided\n",
    "    if hyperparams_path and os.path.exists(hyperparams_path):\n",
    "        with open(hyperparams_path, 'r') as f:\n",
    "            hyperparams = json.load(f)\n",
    "        \n",
    "        # Extract model architecture parameters\n",
    "        dropout_rate = hyperparams.get('dropout_rate', 0.5)\n",
    "        num_conv_layers = hyperparams.get('num_conv_layers', 4)\n",
    "        num_dense_layers = hyperparams.get('num_dense_layers', 2)\n",
    "        print(f\"Loaded hyperparameters from {hyperparams_path}:\")\n",
    "        print(f\"  - dropout_rate: {dropout_rate}\")\n",
    "        print(f\"  - num_conv_layers: {num_conv_layers}\")\n",
    "        print(f\"  - num_dense_layers: {num_dense_layers}\")\n",
    "    else:\n",
    "        # Default parameters if JSON not found\n",
    "        dropout_rate = 0.5\n",
    "        num_conv_layers = 4\n",
    "        num_dense_layers = 2\n",
    "        print(f\"Using default hyperparameters (JSON file not found)\")\n",
    "    \n",
    "    # Create model with the appropriate architecture\n",
    "    model = PlantDiseaseModel(\n",
    "        num_classes=num_classes,\n",
    "        dropout_rate=dropout_rate,\n",
    "        num_conv_layers=num_conv_layers,\n",
    "        num_dense_layers=num_dense_layers\n",
    "    ).to(device)\n",
    "    \n",
    "    # Load weights if model file exists\n",
    "    if os.path.exists(model_path):\n",
    "        model.load_state_dict(torch.load(model_path, map_location=device))\n",
    "        model.eval()\n",
    "        print(f\"Successfully loaded model weights from {model_path}\")\n",
    "    else:\n",
    "        print(f\"Warning: Model file {model_path} not found. Using untrained model.\")\n",
    "    \n",
    "    return model\n",
    "\n",
    "# Try to load the models from saved files\n",
    "try:\n",
    "    # Get class names if not already defined\n",
    "    if 'class_names' not in globals():\n",
    "        train_dir = os.path.join(\"PlantVillage\", \"train\")\n",
    "        if os.path.exists(train_dir):\n",
    "            class_names = sorted(os.listdir(train_dir))\n",
    "            num_classes = len(class_names)\n",
    "        else:\n",
    "            print(\"Warning: Training directory not found. Using default class names.\")\n",
    "            class_names = [\"Class_\" + str(i) for i in range(38)]  # Default to 38 classes\n",
    "            num_classes = 38\n",
    "    else:\n",
    "        num_classes = len(class_names)\n",
    "    \n",
    "    print(f\"Loading models for {num_classes} classes...\")\n",
    "    \n",
    "    # Load base model\n",
    "    print(\"\\nLoading base model:\")\n",
    "    base_model_path = 'base_model.pt'\n",
    "    base_hyperparams_path = 'base_hyperparams.json'\n",
    "    base_model = load_model_from_file(base_model_path, num_classes, base_hyperparams_path)\n",
    "    \n",
    "    # Load optimized model\n",
    "    print(\"\\nLoading optimized model:\")\n",
    "    optimized_model_path = 'optimized_model.pt'\n",
    "    optimized_hyperparams_path = 'optimized_hyperparams.json'\n",
    "    optimized_model = load_model_from_file(optimized_model_path, num_classes, optimized_hyperparams_path)\n",
    "    \n",
    "    print(\"\\nModels loaded successfully. Starting GUI...\")\n",
    "    \n",
    "    # Create and run the GUI\n",
    "    root = tk.Tk()\n",
    "    app = ModelComparisonApp(root, base_model, optimized_model, class_names)\n",
    "    root.mainloop()\n",
    "    \n",
    "except Exception as e:\n",
    "    print(f\"Error initializing the GUI: {str(e)}\")\n",
    "    print(\"Please make sure you have run the cells that train and save the models first.\")"
   ]
  },
  {
   "cell_type": "code",
   "execution_count": null,
   "metadata": {},
   "outputs": [],
   "source": []
  }
 ],
 "metadata": {
  "kernelspec": {
   "display_name": "myenv",
   "language": "python",
   "name": "python3"
  },
  "language_info": {
   "codemirror_mode": {
    "name": "ipython",
    "version": 3
   },
   "file_extension": ".py",
   "mimetype": "text/x-python",
   "name": "python",
   "nbconvert_exporter": "python",
   "pygments_lexer": "ipython3",
   "version": "3.11.11"
  }
 },
 "nbformat": 4,
 "nbformat_minor": 4
}
